{
 "cells": [
  {
   "cell_type": "markdown",
   "metadata": {},
   "source": [
    "# Project Description"
   ]
  },
  {
   "cell_type": "markdown",
   "metadata": {},
   "source": [
    "My name is Mohammad Abdus Samad. I am working as an analyst for the telecom operator Megaline. The company offers its clients two prepaid plans, Surf and Ultimate. The commercial department wants to know which of the plans brings in more revenue in order to adjust the advertising budget.\n",
    "\n",
    "I have to carry out a primary analysis of the plans based on a relatively small client selection. I have the data on 500 Megaline clients: who the clients are, where they're from, which plan they use, and the number of calls they made and text messages they sent in 2018.\n",
    "### Description of the plans\n",
    "Note: Megaline rounds seconds up to minutes, and megabytes to gigabytes. For **calls**, each individual call is rounded up: even if the call lasted just one second, it will be counted as one minute. For **web traffic**, individual web sessions are not rounded up. Instead, the total for the month is rounded up. If someone uses 1025 megabytes this month, they will be charged for 2 gigabytes.\n",
    "\n",
    "### Surf\n",
    "1. Monthly charge: 20 dollars\n",
    "2. 500 monthly minutes, 50 texts, and 15 GB of data\n",
    "3. After exceeding the package limits:\n",
    "  - 1 minute: 3 cents\n",
    "  - 1 text message: 3 cents\n",
    "  - 1 GB of data: 10 dollars\n",
    "  \n",
    "### Ultimate\n",
    "1. Monthly charge: 70 dollars\n",
    "2. 3000 monthly minutes, 1000 text messages, and 30 GB of data\n",
    "3. After exceeding the package limits:\n",
    "  - 1 minute: 1 cent\n",
    "  - 1 text message: 1 cent\n",
    "  - 1 GB of data: 7 dollars\n",
    "  \n",
    "### Description of the data\n",
    "Megaline rounds seconds up to minutes, and megabytes to gigabytes. For calls, each individual call is rounded up: even if the call lasted just one second, it will be counted as one minute. For web traffic, individual web sessions are not rounded up. Instead, the total for the month is rounded up. If someone uses 1025 megabytes this month, they will be charged for 2 gigabytes.\n",
    "\n",
    "**The users table (data on users):**\n",
    "- user_id — unique user identifier\n",
    "- first_name — user's name\n",
    "- last_name — user's last name\n",
    "- reg_date — subscription date (dd, mm, yy)\n",
    "- churn_date — the date the user stopped using the service (if the value is missing, the calling plan was being used when this data was retrieved)\n",
    "- city — user's city of residence\n",
    "- plan — calling plan name\n",
    "\n",
    "**The calls table (data on calls):**\n",
    "- id — unique call identifier\n",
    "- call_date — call date\n",
    "- duration — call duration (in minutes)\n",
    "- user_id — the identifier of the user making the call\n",
    "\n",
    "**The messages table (data on texts):**\n",
    "- id — unique text message identifier\n",
    "- message_date — text message date\n",
    "- user_id — the identifier of the user sending the text\n",
    "\n",
    "**The internet table (data on web sessions):**\n",
    "- id — unique session identifier\n",
    "- mb_used — the volume of data spent during the session (in megabytes)\n",
    "- session_date — web session date\n",
    "- user_id — user identifier\n",
    "\n",
    "**The plans table (data on the plans):**\n",
    "- plan_name — calling plan name\n",
    "- usd_monthly_fee — monthly charge in US dollars\n",
    "- minutes_included — monthly minute allowance\n",
    "- messages_included — monthly text allowance\n",
    "- mb_per_month_included — data volume allowance (in megabytes)\n",
    "- usd_per_minute — price per minute after exceeding the package limits (e.g., if the package includes 100 minutes, the 101st minute will be charged)\n",
    "- usd_per_message — price per text after exceeding the package limits\n",
    "- usd_per_gb — price per extra gigabyte of data after exceeding the package limits (1 GB = 1024 megabytes)"
   ]
  },
  {
   "cell_type": "markdown",
   "metadata": {},
   "source": [
    "# Project Goal"
   ]
  },
  {
   "cell_type": "markdown",
   "metadata": {},
   "source": [
    " Analyzing clients' behavior and determine which prepaid plan brings in more revenue."
   ]
  },
  {
   "cell_type": "markdown",
   "metadata": {},
   "source": [
    "# Project Content:"
   ]
  },
  {
   "cell_type": "markdown",
   "metadata": {},
   "source": [
    "-  <a href='#the_destination1'>Open the data file and study the general information</a>\n",
    "-  <a href='#the_destination2'>Prepare the data</a>\n",
    "-  <a href='#the_destination3'>Analyse the data</a>\n",
    "-  <a href='#the_destination4'>Testing hypotheses</a>\n",
    "-  <a href='#the_destination5'>Overall Conclusion</a>"
   ]
  },
  {
   "cell_type": "markdown",
   "metadata": {},
   "source": [
    "<a id='the_destination1'></a>\n",
    "# Step 1. Open the data file and study the general information. "
   ]
  },
  {
   "cell_type": "markdown",
   "metadata": {},
   "source": [
    "**Importing the libraries:**"
   ]
  },
  {
   "cell_type": "code",
   "execution_count": 1,
   "metadata": {},
   "outputs": [],
   "source": [
    "import pandas as pd\n",
    "import numpy as np\n",
    "import matplotlib.pyplot as plt\n",
    "from scipy import stats as st\n",
    "import seaborn as sns"
   ]
  },
  {
   "cell_type": "markdown",
   "metadata": {},
   "source": [
    "**Information for the \"megaline_calls\" table:**"
   ]
  },
  {
   "cell_type": "code",
   "execution_count": 2,
   "metadata": {},
   "outputs": [
    {
     "name": "stdout",
     "output_type": "stream",
     "text": [
      "<class 'pandas.core.frame.DataFrame'>\n",
      "RangeIndex: 137735 entries, 0 to 137734\n",
      "Data columns (total 4 columns):\n",
      "id           137735 non-null object\n",
      "user_id      137735 non-null int64\n",
      "call_date    137735 non-null object\n",
      "duration     137735 non-null float64\n",
      "dtypes: float64(1), int64(1), object(2)\n",
      "memory usage: 4.2+ MB\n"
     ]
    }
   ],
   "source": [
    "try:\n",
    "    megaline_calls = pd.read_csv('megaline_calls.csv')\n",
    "except:\n",
    "    megaline_calls = pd.read_csv('/datasets/megaline_calls.csv')\n",
    "megaline_calls.info()"
   ]
  },
  {
   "cell_type": "markdown",
   "metadata": {},
   "source": [
    "In the \"megaline_calls\" table, there are 137735 rows & 4 columns named \"id\", \"user_id\", \"call_date\", \"duration\"."
   ]
  },
  {
   "cell_type": "markdown",
   "metadata": {},
   "source": [
    "**Information for the \"megaline_internet\" table:**"
   ]
  },
  {
   "cell_type": "code",
   "execution_count": 3,
   "metadata": {},
   "outputs": [
    {
     "name": "stdout",
     "output_type": "stream",
     "text": [
      "<class 'pandas.core.frame.DataFrame'>\n",
      "RangeIndex: 104825 entries, 0 to 104824\n",
      "Data columns (total 4 columns):\n",
      "id              104825 non-null object\n",
      "user_id         104825 non-null int64\n",
      "session_date    104825 non-null object\n",
      "mb_used         104825 non-null float64\n",
      "dtypes: float64(1), int64(1), object(2)\n",
      "memory usage: 3.2+ MB\n"
     ]
    }
   ],
   "source": [
    "try:\n",
    "    megaline_internet = pd.read_csv('megaline_internet.csv')\n",
    "except:\n",
    "    megaline_internet = pd.read_csv('/datasets/megaline_internet.csv')\n",
    "megaline_internet.info()"
   ]
  },
  {
   "cell_type": "markdown",
   "metadata": {},
   "source": [
    "In the \"megaline_internet\" table, there are 104825 rows & 4 columns named \"id\", \"user_id\", \"session_date\", \"mb_used\"."
   ]
  },
  {
   "cell_type": "markdown",
   "metadata": {},
   "source": [
    "**Information for the \"megaline_messages\" table:**"
   ]
  },
  {
   "cell_type": "code",
   "execution_count": 4,
   "metadata": {},
   "outputs": [
    {
     "name": "stdout",
     "output_type": "stream",
     "text": [
      "<class 'pandas.core.frame.DataFrame'>\n",
      "RangeIndex: 76051 entries, 0 to 76050\n",
      "Data columns (total 3 columns):\n",
      "id              76051 non-null object\n",
      "user_id         76051 non-null int64\n",
      "message_date    76051 non-null object\n",
      "dtypes: int64(1), object(2)\n",
      "memory usage: 1.7+ MB\n"
     ]
    }
   ],
   "source": [
    "try:\n",
    "    megaline_messages = pd.read_csv('megaline_messages.csv')\n",
    "except:\n",
    "    megaline_messages = pd.read_csv('/datasets/megaline_messages.csv')\n",
    "megaline_messages.info()"
   ]
  },
  {
   "cell_type": "markdown",
   "metadata": {},
   "source": [
    "In the \"megaline_messages\" table, there are 76051 rows & 3 columns named \"id\", \"user_id\", \"message_date\"."
   ]
  },
  {
   "cell_type": "markdown",
   "metadata": {},
   "source": [
    "**Information for the \"megaline_plans\" table:**"
   ]
  },
  {
   "cell_type": "code",
   "execution_count": 5,
   "metadata": {},
   "outputs": [
    {
     "name": "stdout",
     "output_type": "stream",
     "text": [
      "<class 'pandas.core.frame.DataFrame'>\n",
      "RangeIndex: 2 entries, 0 to 1\n",
      "Data columns (total 8 columns):\n",
      "messages_included        2 non-null int64\n",
      "mb_per_month_included    2 non-null int64\n",
      "minutes_included         2 non-null int64\n",
      "usd_monthly_pay          2 non-null int64\n",
      "usd_per_gb               2 non-null int64\n",
      "usd_per_message          2 non-null float64\n",
      "usd_per_minute           2 non-null float64\n",
      "plan_name                2 non-null object\n",
      "dtypes: float64(2), int64(5), object(1)\n",
      "memory usage: 256.0+ bytes\n"
     ]
    }
   ],
   "source": [
    "try:\n",
    "    megaline_plans = pd.read_csv('megaline_plans.csv')\n",
    "except:\n",
    "    megaline_plans = pd.read_csv('/datasets/megaline_plans.csv')\n",
    "megaline_plans.info()"
   ]
  },
  {
   "cell_type": "markdown",
   "metadata": {},
   "source": [
    "In the \"megaline_plans\" table, there are 2 rows & 8 columns named \"messages_included\",\"mb_per_month_included\" , \"minutes_included\", \"usd_monthly_pay\", \"usd_per_gb\", \"usd_per_message\", \"usd_per_minute\", \"plan_name\"."
   ]
  },
  {
   "cell_type": "markdown",
   "metadata": {},
   "source": [
    "**Information for the \"megaline_users\" data:**"
   ]
  },
  {
   "cell_type": "code",
   "execution_count": 6,
   "metadata": {},
   "outputs": [
    {
     "name": "stdout",
     "output_type": "stream",
     "text": [
      "<class 'pandas.core.frame.DataFrame'>\n",
      "RangeIndex: 500 entries, 0 to 499\n",
      "Data columns (total 8 columns):\n",
      "user_id       500 non-null int64\n",
      "first_name    500 non-null object\n",
      "last_name     500 non-null object\n",
      "age           500 non-null int64\n",
      "city          500 non-null object\n",
      "reg_date      500 non-null object\n",
      "plan          500 non-null object\n",
      "churn_date    34 non-null object\n",
      "dtypes: int64(2), object(6)\n",
      "memory usage: 31.4+ KB\n"
     ]
    }
   ],
   "source": [
    "try:\n",
    "    megaline_users = pd.read_csv('megaline_users.csv')\n",
    "except:\n",
    "    megaline_users = pd.read_csv('/datasets/megaline_users.csv')\n",
    "megaline_users.info()"
   ]
  },
  {
   "cell_type": "markdown",
   "metadata": {},
   "source": [
    "In the \"megaline_users\" table, there are 500 rows & 8 columns named \"user_id\", \"first_name\", \"last_name\", \"age\", \"city\", \"reg_date\", \"plan\", \"churn_date\"."
   ]
  },
  {
   "cell_type": "markdown",
   "metadata": {},
   "source": [
    "<a id='the_destination2'></a>\n",
    "# Step 2. Prepare the data"
   ]
  },
  {
   "cell_type": "markdown",
   "metadata": {},
   "source": [
    "**Checking missing values for \"megaline_calls\" table:**"
   ]
  },
  {
   "cell_type": "code",
   "execution_count": 7,
   "metadata": {},
   "outputs": [
    {
     "data": {
      "text/plain": [
       "id           0\n",
       "user_id      0\n",
       "call_date    0\n",
       "duration     0\n",
       "dtype: int64"
      ]
     },
     "execution_count": 7,
     "metadata": {},
     "output_type": "execute_result"
    }
   ],
   "source": [
    "megaline_calls.isnull().sum()"
   ]
  },
  {
   "cell_type": "markdown",
   "metadata": {},
   "source": [
    "There are no missing values in the \"megaline_calls\" dataset."
   ]
  },
  {
   "cell_type": "markdown",
   "metadata": {},
   "source": [
    "**Checking missing values for \"megaline_internet\" table:**"
   ]
  },
  {
   "cell_type": "code",
   "execution_count": 8,
   "metadata": {},
   "outputs": [
    {
     "data": {
      "text/plain": [
       "id              0\n",
       "user_id         0\n",
       "session_date    0\n",
       "mb_used         0\n",
       "dtype: int64"
      ]
     },
     "execution_count": 8,
     "metadata": {},
     "output_type": "execute_result"
    }
   ],
   "source": [
    "megaline_internet.isnull().sum()"
   ]
  },
  {
   "cell_type": "markdown",
   "metadata": {},
   "source": [
    "There are no missing values in the \"megaline_internet\" dataset."
   ]
  },
  {
   "cell_type": "markdown",
   "metadata": {},
   "source": [
    "**Checking missing values for \"megaline_messages\" table:**"
   ]
  },
  {
   "cell_type": "code",
   "execution_count": 9,
   "metadata": {},
   "outputs": [
    {
     "data": {
      "text/plain": [
       "id              0\n",
       "user_id         0\n",
       "message_date    0\n",
       "dtype: int64"
      ]
     },
     "execution_count": 9,
     "metadata": {},
     "output_type": "execute_result"
    }
   ],
   "source": [
    "megaline_messages.isnull().sum()"
   ]
  },
  {
   "cell_type": "markdown",
   "metadata": {},
   "source": [
    "There are no missing values in the \"megaline_messages\" dataset."
   ]
  },
  {
   "cell_type": "markdown",
   "metadata": {},
   "source": [
    "**Checking missing values for \"megaline_plans\" table:**"
   ]
  },
  {
   "cell_type": "code",
   "execution_count": 10,
   "metadata": {},
   "outputs": [
    {
     "data": {
      "text/plain": [
       "messages_included        0\n",
       "mb_per_month_included    0\n",
       "minutes_included         0\n",
       "usd_monthly_pay          0\n",
       "usd_per_gb               0\n",
       "usd_per_message          0\n",
       "usd_per_minute           0\n",
       "plan_name                0\n",
       "dtype: int64"
      ]
     },
     "execution_count": 10,
     "metadata": {},
     "output_type": "execute_result"
    }
   ],
   "source": [
    "megaline_plans.isnull().sum()"
   ]
  },
  {
   "cell_type": "markdown",
   "metadata": {},
   "source": [
    "There are no missing values in the \"megaline_plans\" dataset."
   ]
  },
  {
   "cell_type": "markdown",
   "metadata": {},
   "source": [
    "**Checking missing values for \"megaline_users\" table:**"
   ]
  },
  {
   "cell_type": "code",
   "execution_count": 11,
   "metadata": {},
   "outputs": [
    {
     "data": {
      "text/plain": [
       "user_id         0\n",
       "first_name      0\n",
       "last_name       0\n",
       "age             0\n",
       "city            0\n",
       "reg_date        0\n",
       "plan            0\n",
       "churn_date    466\n",
       "dtype: int64"
      ]
     },
     "execution_count": 11,
     "metadata": {},
     "output_type": "execute_result"
    }
   ],
   "source": [
    "megaline_users.isnull().sum()"
   ]
  },
  {
   "cell_type": "markdown",
   "metadata": {},
   "source": [
    "In the  \"megaline_users\" table \"churn_date\" column has 466 missing values."
   ]
  },
  {
   "cell_type": "markdown",
   "metadata": {},
   "source": [
    "**In \"megaline_users\" table filling \"churn_date\" column:** "
   ]
  },
  {
   "cell_type": "code",
   "execution_count": 12,
   "metadata": {},
   "outputs": [
    {
     "data": {
      "text/html": [
       "<div>\n",
       "<style scoped>\n",
       "    .dataframe tbody tr th:only-of-type {\n",
       "        vertical-align: middle;\n",
       "    }\n",
       "\n",
       "    .dataframe tbody tr th {\n",
       "        vertical-align: top;\n",
       "    }\n",
       "\n",
       "    .dataframe thead th {\n",
       "        text-align: right;\n",
       "    }\n",
       "</style>\n",
       "<table border=\"1\" class=\"dataframe\">\n",
       "  <thead>\n",
       "    <tr style=\"text-align: right;\">\n",
       "      <th></th>\n",
       "      <th>user_id</th>\n",
       "      <th>first_name</th>\n",
       "      <th>last_name</th>\n",
       "      <th>age</th>\n",
       "      <th>city</th>\n",
       "      <th>reg_date</th>\n",
       "      <th>plan</th>\n",
       "      <th>churn_date</th>\n",
       "    </tr>\n",
       "  </thead>\n",
       "  <tbody>\n",
       "    <tr>\n",
       "      <td>0</td>\n",
       "      <td>1000</td>\n",
       "      <td>Anamaria</td>\n",
       "      <td>Bauer</td>\n",
       "      <td>45</td>\n",
       "      <td>Atlanta-Sandy Springs-Roswell, GA MSA</td>\n",
       "      <td>2018-12-24</td>\n",
       "      <td>ultimate</td>\n",
       "      <td>31-12-2018</td>\n",
       "    </tr>\n",
       "    <tr>\n",
       "      <td>1</td>\n",
       "      <td>1001</td>\n",
       "      <td>Mickey</td>\n",
       "      <td>Wilkerson</td>\n",
       "      <td>28</td>\n",
       "      <td>Seattle-Tacoma-Bellevue, WA MSA</td>\n",
       "      <td>2018-08-13</td>\n",
       "      <td>surf</td>\n",
       "      <td>31-12-2018</td>\n",
       "    </tr>\n",
       "    <tr>\n",
       "      <td>2</td>\n",
       "      <td>1002</td>\n",
       "      <td>Carlee</td>\n",
       "      <td>Hoffman</td>\n",
       "      <td>36</td>\n",
       "      <td>Las Vegas-Henderson-Paradise, NV MSA</td>\n",
       "      <td>2018-10-21</td>\n",
       "      <td>surf</td>\n",
       "      <td>31-12-2018</td>\n",
       "    </tr>\n",
       "    <tr>\n",
       "      <td>3</td>\n",
       "      <td>1003</td>\n",
       "      <td>Reynaldo</td>\n",
       "      <td>Jenkins</td>\n",
       "      <td>52</td>\n",
       "      <td>Tulsa, OK MSA</td>\n",
       "      <td>2018-01-28</td>\n",
       "      <td>surf</td>\n",
       "      <td>31-12-2018</td>\n",
       "    </tr>\n",
       "    <tr>\n",
       "      <td>4</td>\n",
       "      <td>1004</td>\n",
       "      <td>Leonila</td>\n",
       "      <td>Thompson</td>\n",
       "      <td>40</td>\n",
       "      <td>Seattle-Tacoma-Bellevue, WA MSA</td>\n",
       "      <td>2018-05-23</td>\n",
       "      <td>surf</td>\n",
       "      <td>31-12-2018</td>\n",
       "    </tr>\n",
       "  </tbody>\n",
       "</table>\n",
       "</div>"
      ],
      "text/plain": [
       "   user_id first_name  last_name  age                                   city  \\\n",
       "0     1000   Anamaria      Bauer   45  Atlanta-Sandy Springs-Roswell, GA MSA   \n",
       "1     1001     Mickey  Wilkerson   28        Seattle-Tacoma-Bellevue, WA MSA   \n",
       "2     1002     Carlee    Hoffman   36   Las Vegas-Henderson-Paradise, NV MSA   \n",
       "3     1003   Reynaldo    Jenkins   52                          Tulsa, OK MSA   \n",
       "4     1004    Leonila   Thompson   40        Seattle-Tacoma-Bellevue, WA MSA   \n",
       "\n",
       "     reg_date      plan  churn_date  \n",
       "0  2018-12-24  ultimate  31-12-2018  \n",
       "1  2018-08-13      surf  31-12-2018  \n",
       "2  2018-10-21      surf  31-12-2018  \n",
       "3  2018-01-28      surf  31-12-2018  \n",
       "4  2018-05-23      surf  31-12-2018  "
      ]
     },
     "metadata": {},
     "output_type": "display_data"
    }
   ],
   "source": [
    "megaline_users['churn_date'] = megaline_users['churn_date'].fillna(\"31-12-2018\")\n",
    "display(megaline_users.head())"
   ]
  },
  {
   "cell_type": "markdown",
   "metadata": {},
   "source": [
    "In the  \"megaline_users\" table \"churn_date\" column has 466 missing values.I filled those missing values with \"31-12-2018\" because the telecom operator Megaline wants to know the data for 2018.That's why I filled \"churn_date\" column till end of 2018."
   ]
  },
  {
   "cell_type": "markdown",
   "metadata": {},
   "source": [
    "**Percentage of missing values for each category**"
   ]
  },
  {
   "cell_type": "code",
   "execution_count": 13,
   "metadata": {},
   "outputs": [
    {
     "data": {
      "text/plain": [
       "user_id       0.0\n",
       "first_name    0.0\n",
       "last_name     0.0\n",
       "age           0.0\n",
       "city          0.0\n",
       "reg_date      0.0\n",
       "plan          0.0\n",
       "churn_date    0.0\n",
       "dtype: float64"
      ]
     },
     "execution_count": 13,
     "metadata": {},
     "output_type": "execute_result"
    }
   ],
   "source": [
    " (megaline_users.isnull().sum() * 100) / len(megaline_users)"
   ]
  },
  {
   "cell_type": "markdown",
   "metadata": {},
   "source": [
    "**Converting from string to datetime format:**"
   ]
  },
  {
   "cell_type": "code",
   "execution_count": 14,
   "metadata": {},
   "outputs": [],
   "source": [
    "megaline_users['churn_date'] = megaline_users['churn_date'].astype('datetime64[ns]')\n",
    "megaline_users['reg_date'] = megaline_users['reg_date'].astype('datetime64[ns]')\n",
    "megaline_calls['call_date'] = megaline_calls['call_date'].astype('datetime64[ns]')\n",
    "megaline_messages['message_date'] = megaline_messages['message_date'].astype('datetime64[ns]')\n",
    "megaline_internet['session_date'] = megaline_internet['session_date'].astype('datetime64[ns]')"
   ]
  },
  {
   "cell_type": "markdown",
   "metadata": {},
   "source": [
    "After observation, I found \"churn_date\", \"reg_date\", \"call_date\", \"message_date\", \"session_date\" columns were string type. I converted it from srting type to date type format."
   ]
  },
  {
   "cell_type": "markdown",
   "metadata": {},
   "source": [
    "**In \"megaline_calls\" table, converting \"duration\" column from float type to integer type:**"
   ]
  },
  {
   "cell_type": "code",
   "execution_count": 15,
   "metadata": {},
   "outputs": [
    {
     "data": {
      "text/html": [
       "<div>\n",
       "<style scoped>\n",
       "    .dataframe tbody tr th:only-of-type {\n",
       "        vertical-align: middle;\n",
       "    }\n",
       "\n",
       "    .dataframe tbody tr th {\n",
       "        vertical-align: top;\n",
       "    }\n",
       "\n",
       "    .dataframe thead th {\n",
       "        text-align: right;\n",
       "    }\n",
       "</style>\n",
       "<table border=\"1\" class=\"dataframe\">\n",
       "  <thead>\n",
       "    <tr style=\"text-align: right;\">\n",
       "      <th></th>\n",
       "      <th>id</th>\n",
       "      <th>user_id</th>\n",
       "      <th>call_date</th>\n",
       "      <th>duration</th>\n",
       "    </tr>\n",
       "  </thead>\n",
       "  <tbody>\n",
       "    <tr>\n",
       "      <td>0</td>\n",
       "      <td>1000_93</td>\n",
       "      <td>1000</td>\n",
       "      <td>2018-12-27</td>\n",
       "      <td>9.0</td>\n",
       "    </tr>\n",
       "    <tr>\n",
       "      <td>1</td>\n",
       "      <td>1000_145</td>\n",
       "      <td>1000</td>\n",
       "      <td>2018-12-27</td>\n",
       "      <td>14.0</td>\n",
       "    </tr>\n",
       "    <tr>\n",
       "      <td>2</td>\n",
       "      <td>1000_247</td>\n",
       "      <td>1000</td>\n",
       "      <td>2018-12-27</td>\n",
       "      <td>15.0</td>\n",
       "    </tr>\n",
       "    <tr>\n",
       "      <td>3</td>\n",
       "      <td>1000_309</td>\n",
       "      <td>1000</td>\n",
       "      <td>2018-12-28</td>\n",
       "      <td>6.0</td>\n",
       "    </tr>\n",
       "    <tr>\n",
       "      <td>4</td>\n",
       "      <td>1000_380</td>\n",
       "      <td>1000</td>\n",
       "      <td>2018-12-30</td>\n",
       "      <td>5.0</td>\n",
       "    </tr>\n",
       "  </tbody>\n",
       "</table>\n",
       "</div>"
      ],
      "text/plain": [
       "         id  user_id  call_date  duration\n",
       "0   1000_93     1000 2018-12-27       9.0\n",
       "1  1000_145     1000 2018-12-27      14.0\n",
       "2  1000_247     1000 2018-12-27      15.0\n",
       "3  1000_309     1000 2018-12-28       6.0\n",
       "4  1000_380     1000 2018-12-30       5.0"
      ]
     },
     "metadata": {},
     "output_type": "display_data"
    }
   ],
   "source": [
    "megaline_calls[\"duration\"] = megaline_calls[\"duration\"].apply(np.ceil)\n",
    "display(megaline_calls.head())"
   ]
  },
  {
   "cell_type": "markdown",
   "metadata": {},
   "source": [
    "In \"megaline_calls\" table, I converted the \"duration\" column data type from float type to integer type.According to the question, For calls, each individual call is rounded up: even if the call lasted just one second, it will be counted as one minute. "
   ]
  },
  {
   "cell_type": "markdown",
   "metadata": {},
   "source": [
    "**Checking duplicates:**"
   ]
  },
  {
   "cell_type": "code",
   "execution_count": 16,
   "metadata": {},
   "outputs": [
    {
     "name": "stdout",
     "output_type": "stream",
     "text": [
      "0\n",
      "0\n",
      "0\n",
      "0\n",
      "0\n"
     ]
    }
   ],
   "source": [
    "print(megaline_calls.duplicated().sum())\n",
    "print(megaline_users.duplicated().sum())\n",
    "print(megaline_messages.duplicated().sum())\n",
    "print(megaline_plans.duplicated().sum())\n",
    "print(megaline_internet.duplicated().sum())\n"
   ]
  },
  {
   "cell_type": "markdown",
   "metadata": {},
   "source": [
    "There are no duplicates in all of the datasets."
   ]
  },
  {
   "cell_type": "markdown",
   "metadata": {},
   "source": [
    "**Checking value_counts in the \"megaline_internet\" dataset \"mb_used\" column:**"
   ]
  },
  {
   "cell_type": "code",
   "execution_count": 17,
   "metadata": {},
   "outputs": [
    {
     "data": {
      "text/plain": [
       "0.00      13747\n",
       "414.46        8\n",
       "435.77        8\n",
       "417.46        7\n",
       "313.79        7\n",
       "          ...  \n",
       "638.12        1\n",
       "217.39        1\n",
       "683.90        1\n",
       "243.97        1\n",
       "563.11        1\n",
       "Name: mb_used, Length: 57624, dtype: int64"
      ]
     },
     "execution_count": 17,
     "metadata": {},
     "output_type": "execute_result"
    }
   ],
   "source": [
    "megaline_internet[\"mb_used\"].value_counts()"
   ]
  },
  {
   "cell_type": "markdown",
   "metadata": {},
   "source": [
    "In the \"megaline_internet\" dataset \"mb_used\" column, there are 13747 rows have zero values. This means that 13747 clients did not use internet. "
   ]
  },
  {
   "cell_type": "markdown",
   "metadata": {},
   "source": [
    "**Checking value_counts in the \"megaline_calls\" dataset \"duration\" column:**"
   ]
  },
  {
   "cell_type": "code",
   "execution_count": 18,
   "metadata": {},
   "outputs": [
    {
     "data": {
      "text/plain": [
       "0.0     26834\n",
       "6.0      7848\n",
       "5.0      7778\n",
       "7.0      7769\n",
       "8.0      7718\n",
       "4.0      7434\n",
       "9.0      7357\n",
       "3.0      6942\n",
       "10.0     6918\n",
       "2.0      6446\n",
       "11.0     6407\n",
       "1.0      5795\n",
       "12.0     5750\n",
       "13.0     5070\n",
       "14.0     4402\n",
       "15.0     3889\n",
       "16.0     3011\n",
       "17.0     2461\n",
       "18.0     1992\n",
       "19.0     1604\n",
       "20.0     1243\n",
       "21.0      910\n",
       "22.0      671\n",
       "23.0      461\n",
       "24.0      324\n",
       "25.0      235\n",
       "26.0      157\n",
       "27.0      118\n",
       "28.0       62\n",
       "29.0       58\n",
       "30.0       27\n",
       "31.0       18\n",
       "32.0       13\n",
       "33.0        6\n",
       "36.0        3\n",
       "34.0        2\n",
       "38.0        1\n",
       "37.0        1\n",
       "Name: duration, dtype: int64"
      ]
     },
     "execution_count": 18,
     "metadata": {},
     "output_type": "execute_result"
    }
   ],
   "source": [
    "megaline_calls[\"duration\"].value_counts()"
   ]
  },
  {
   "cell_type": "markdown",
   "metadata": {},
   "source": [
    "In the \"megaline_calls\" dataset \"duration\" column, there are 26834 rows have zero values. This means that 26834 clients did not use number of minutes. "
   ]
  },
  {
   "cell_type": "markdown",
   "metadata": {},
   "source": [
    "**Merging \"megaline_users\" & \"megaline_calls\" dataset:**"
   ]
  },
  {
   "cell_type": "code",
   "execution_count": 19,
   "metadata": {},
   "outputs": [
    {
     "data": {
      "text/html": [
       "<div>\n",
       "<style scoped>\n",
       "    .dataframe tbody tr th:only-of-type {\n",
       "        vertical-align: middle;\n",
       "    }\n",
       "\n",
       "    .dataframe tbody tr th {\n",
       "        vertical-align: top;\n",
       "    }\n",
       "\n",
       "    .dataframe thead th {\n",
       "        text-align: right;\n",
       "    }\n",
       "</style>\n",
       "<table border=\"1\" class=\"dataframe\">\n",
       "  <thead>\n",
       "    <tr style=\"text-align: right;\">\n",
       "      <th></th>\n",
       "      <th>user_id</th>\n",
       "      <th>plan</th>\n",
       "      <th>reg_date</th>\n",
       "      <th>churn_date</th>\n",
       "      <th>id</th>\n",
       "      <th>call_date</th>\n",
       "    </tr>\n",
       "  </thead>\n",
       "  <tbody>\n",
       "    <tr>\n",
       "      <td>0</td>\n",
       "      <td>1000</td>\n",
       "      <td>ultimate</td>\n",
       "      <td>2018-12-24</td>\n",
       "      <td>2018-12-31</td>\n",
       "      <td>1000_93</td>\n",
       "      <td>2018-12-27</td>\n",
       "    </tr>\n",
       "    <tr>\n",
       "      <td>1</td>\n",
       "      <td>1000</td>\n",
       "      <td>ultimate</td>\n",
       "      <td>2018-12-24</td>\n",
       "      <td>2018-12-31</td>\n",
       "      <td>1000_145</td>\n",
       "      <td>2018-12-27</td>\n",
       "    </tr>\n",
       "    <tr>\n",
       "      <td>2</td>\n",
       "      <td>1000</td>\n",
       "      <td>ultimate</td>\n",
       "      <td>2018-12-24</td>\n",
       "      <td>2018-12-31</td>\n",
       "      <td>1000_247</td>\n",
       "      <td>2018-12-27</td>\n",
       "    </tr>\n",
       "    <tr>\n",
       "      <td>3</td>\n",
       "      <td>1000</td>\n",
       "      <td>ultimate</td>\n",
       "      <td>2018-12-24</td>\n",
       "      <td>2018-12-31</td>\n",
       "      <td>1000_309</td>\n",
       "      <td>2018-12-28</td>\n",
       "    </tr>\n",
       "    <tr>\n",
       "      <td>4</td>\n",
       "      <td>1000</td>\n",
       "      <td>ultimate</td>\n",
       "      <td>2018-12-24</td>\n",
       "      <td>2018-12-31</td>\n",
       "      <td>1000_380</td>\n",
       "      <td>2018-12-30</td>\n",
       "    </tr>\n",
       "  </tbody>\n",
       "</table>\n",
       "</div>"
      ],
      "text/plain": [
       "   user_id      plan   reg_date churn_date        id  call_date\n",
       "0     1000  ultimate 2018-12-24 2018-12-31   1000_93 2018-12-27\n",
       "1     1000  ultimate 2018-12-24 2018-12-31  1000_145 2018-12-27\n",
       "2     1000  ultimate 2018-12-24 2018-12-31  1000_247 2018-12-27\n",
       "3     1000  ultimate 2018-12-24 2018-12-31  1000_309 2018-12-28\n",
       "4     1000  ultimate 2018-12-24 2018-12-31  1000_380 2018-12-30"
      ]
     },
     "execution_count": 19,
     "metadata": {},
     "output_type": "execute_result"
    }
   ],
   "source": [
    "merging_users_calls = megaline_users[['user_id','plan','reg_date','churn_date']].merge(megaline_calls[['id','user_id','call_date']],on='user_id',how='left')\n",
    "merging_users_calls.head()"
   ]
  },
  {
   "cell_type": "markdown",
   "metadata": {},
   "source": [
    "**Checking calls before the date of registration:**"
   ]
  },
  {
   "cell_type": "code",
   "execution_count": 20,
   "metadata": {},
   "outputs": [
    {
     "data": {
      "text/html": [
       "<div>\n",
       "<style scoped>\n",
       "    .dataframe tbody tr th:only-of-type {\n",
       "        vertical-align: middle;\n",
       "    }\n",
       "\n",
       "    .dataframe tbody tr th {\n",
       "        vertical-align: top;\n",
       "    }\n",
       "\n",
       "    .dataframe thead th {\n",
       "        text-align: right;\n",
       "    }\n",
       "</style>\n",
       "<table border=\"1\" class=\"dataframe\">\n",
       "  <thead>\n",
       "    <tr style=\"text-align: right;\">\n",
       "      <th></th>\n",
       "      <th>user_id</th>\n",
       "      <th>plan</th>\n",
       "      <th>reg_date</th>\n",
       "      <th>churn_date</th>\n",
       "      <th>id</th>\n",
       "      <th>call_date</th>\n",
       "    </tr>\n",
       "  </thead>\n",
       "  <tbody>\n",
       "  </tbody>\n",
       "</table>\n",
       "</div>"
      ],
      "text/plain": [
       "Empty DataFrame\n",
       "Columns: [user_id, plan, reg_date, churn_date, id, call_date]\n",
       "Index: []"
      ]
     },
     "execution_count": 20,
     "metadata": {},
     "output_type": "execute_result"
    }
   ],
   "source": [
    "merging_users_calls[merging_users_calls.call_date < merging_users_calls.reg_date] "
   ]
  },
  {
   "cell_type": "markdown",
   "metadata": {},
   "source": [
    "**Checking calls after cancelling the registration:**"
   ]
  },
  {
   "cell_type": "code",
   "execution_count": 21,
   "metadata": {},
   "outputs": [
    {
     "data": {
      "text/html": [
       "<div>\n",
       "<style scoped>\n",
       "    .dataframe tbody tr th:only-of-type {\n",
       "        vertical-align: middle;\n",
       "    }\n",
       "\n",
       "    .dataframe tbody tr th {\n",
       "        vertical-align: top;\n",
       "    }\n",
       "\n",
       "    .dataframe thead th {\n",
       "        text-align: right;\n",
       "    }\n",
       "</style>\n",
       "<table border=\"1\" class=\"dataframe\">\n",
       "  <thead>\n",
       "    <tr style=\"text-align: right;\">\n",
       "      <th></th>\n",
       "      <th>user_id</th>\n",
       "      <th>plan</th>\n",
       "      <th>reg_date</th>\n",
       "      <th>churn_date</th>\n",
       "      <th>id</th>\n",
       "      <th>call_date</th>\n",
       "    </tr>\n",
       "  </thead>\n",
       "  <tbody>\n",
       "    <tr>\n",
       "      <td>973</td>\n",
       "      <td>1006</td>\n",
       "      <td>ultimate</td>\n",
       "      <td>2018-11-27</td>\n",
       "      <td>2018-12-18</td>\n",
       "      <td>1006_50</td>\n",
       "      <td>2018-12-21</td>\n",
       "    </tr>\n",
       "    <tr>\n",
       "      <td>976</td>\n",
       "      <td>1006</td>\n",
       "      <td>ultimate</td>\n",
       "      <td>2018-11-27</td>\n",
       "      <td>2018-12-18</td>\n",
       "      <td>1006_74</td>\n",
       "      <td>2018-12-26</td>\n",
       "    </tr>\n",
       "    <tr>\n",
       "      <td>3561</td>\n",
       "      <td>1012</td>\n",
       "      <td>surf</td>\n",
       "      <td>2018-06-28</td>\n",
       "      <td>2018-11-16</td>\n",
       "      <td>1012_1</td>\n",
       "      <td>2018-12-19</td>\n",
       "    </tr>\n",
       "    <tr>\n",
       "      <td>3562</td>\n",
       "      <td>1012</td>\n",
       "      <td>surf</td>\n",
       "      <td>2018-06-28</td>\n",
       "      <td>2018-11-16</td>\n",
       "      <td>1012_2</td>\n",
       "      <td>2018-12-23</td>\n",
       "    </tr>\n",
       "    <tr>\n",
       "      <td>3563</td>\n",
       "      <td>1012</td>\n",
       "      <td>surf</td>\n",
       "      <td>2018-06-28</td>\n",
       "      <td>2018-11-16</td>\n",
       "      <td>1012_3</td>\n",
       "      <td>2018-12-07</td>\n",
       "    </tr>\n",
       "    <tr>\n",
       "      <td>...</td>\n",
       "      <td>...</td>\n",
       "      <td>...</td>\n",
       "      <td>...</td>\n",
       "      <td>...</td>\n",
       "      <td>...</td>\n",
       "      <td>...</td>\n",
       "    </tr>\n",
       "    <tr>\n",
       "      <td>135687</td>\n",
       "      <td>1491</td>\n",
       "      <td>surf</td>\n",
       "      <td>2018-04-27</td>\n",
       "      <td>2018-09-18</td>\n",
       "      <td>1491_639</td>\n",
       "      <td>2018-11-26</td>\n",
       "    </tr>\n",
       "    <tr>\n",
       "      <td>135689</td>\n",
       "      <td>1491</td>\n",
       "      <td>surf</td>\n",
       "      <td>2018-04-27</td>\n",
       "      <td>2018-09-18</td>\n",
       "      <td>1491_641</td>\n",
       "      <td>2018-12-14</td>\n",
       "    </tr>\n",
       "    <tr>\n",
       "      <td>135690</td>\n",
       "      <td>1491</td>\n",
       "      <td>surf</td>\n",
       "      <td>2018-04-27</td>\n",
       "      <td>2018-09-18</td>\n",
       "      <td>1491_642</td>\n",
       "      <td>2018-10-08</td>\n",
       "    </tr>\n",
       "    <tr>\n",
       "      <td>135691</td>\n",
       "      <td>1491</td>\n",
       "      <td>surf</td>\n",
       "      <td>2018-04-27</td>\n",
       "      <td>2018-09-18</td>\n",
       "      <td>1491_644</td>\n",
       "      <td>2018-11-29</td>\n",
       "    </tr>\n",
       "    <tr>\n",
       "      <td>135692</td>\n",
       "      <td>1491</td>\n",
       "      <td>surf</td>\n",
       "      <td>2018-04-27</td>\n",
       "      <td>2018-09-18</td>\n",
       "      <td>1491_647</td>\n",
       "      <td>2018-11-23</td>\n",
       "    </tr>\n",
       "  </tbody>\n",
       "</table>\n",
       "<p>2961 rows × 6 columns</p>\n",
       "</div>"
      ],
      "text/plain": [
       "        user_id      plan   reg_date churn_date        id  call_date\n",
       "973        1006  ultimate 2018-11-27 2018-12-18   1006_50 2018-12-21\n",
       "976        1006  ultimate 2018-11-27 2018-12-18   1006_74 2018-12-26\n",
       "3561       1012      surf 2018-06-28 2018-11-16    1012_1 2018-12-19\n",
       "3562       1012      surf 2018-06-28 2018-11-16    1012_2 2018-12-23\n",
       "3563       1012      surf 2018-06-28 2018-11-16    1012_3 2018-12-07\n",
       "...         ...       ...        ...        ...       ...        ...\n",
       "135687     1491      surf 2018-04-27 2018-09-18  1491_639 2018-11-26\n",
       "135689     1491      surf 2018-04-27 2018-09-18  1491_641 2018-12-14\n",
       "135690     1491      surf 2018-04-27 2018-09-18  1491_642 2018-10-08\n",
       "135691     1491      surf 2018-04-27 2018-09-18  1491_644 2018-11-29\n",
       "135692     1491      surf 2018-04-27 2018-09-18  1491_647 2018-11-23\n",
       "\n",
       "[2961 rows x 6 columns]"
      ]
     },
     "metadata": {},
     "output_type": "display_data"
    }
   ],
   "source": [
    "display(merging_users_calls[merging_users_calls.call_date > merging_users_calls.churn_date])"
   ]
  },
  {
   "cell_type": "markdown",
   "metadata": {},
   "source": [
    "**Checking calls between \"reg_date\" & \"churn_date\":**"
   ]
  },
  {
   "cell_type": "code",
   "execution_count": 22,
   "metadata": {},
   "outputs": [
    {
     "data": {
      "text/html": [
       "<div>\n",
       "<style scoped>\n",
       "    .dataframe tbody tr th:only-of-type {\n",
       "        vertical-align: middle;\n",
       "    }\n",
       "\n",
       "    .dataframe tbody tr th {\n",
       "        vertical-align: top;\n",
       "    }\n",
       "\n",
       "    .dataframe thead th {\n",
       "        text-align: right;\n",
       "    }\n",
       "</style>\n",
       "<table border=\"1\" class=\"dataframe\">\n",
       "  <thead>\n",
       "    <tr style=\"text-align: right;\">\n",
       "      <th></th>\n",
       "      <th>user_id</th>\n",
       "      <th>plan</th>\n",
       "      <th>reg_date</th>\n",
       "      <th>churn_date</th>\n",
       "      <th>id</th>\n",
       "      <th>call_date</th>\n",
       "    </tr>\n",
       "  </thead>\n",
       "  <tbody>\n",
       "    <tr>\n",
       "      <td>0</td>\n",
       "      <td>1000</td>\n",
       "      <td>ultimate</td>\n",
       "      <td>2018-12-24</td>\n",
       "      <td>2018-12-31</td>\n",
       "      <td>1000_93</td>\n",
       "      <td>2018-12-27</td>\n",
       "    </tr>\n",
       "    <tr>\n",
       "      <td>1</td>\n",
       "      <td>1000</td>\n",
       "      <td>ultimate</td>\n",
       "      <td>2018-12-24</td>\n",
       "      <td>2018-12-31</td>\n",
       "      <td>1000_145</td>\n",
       "      <td>2018-12-27</td>\n",
       "    </tr>\n",
       "    <tr>\n",
       "      <td>2</td>\n",
       "      <td>1000</td>\n",
       "      <td>ultimate</td>\n",
       "      <td>2018-12-24</td>\n",
       "      <td>2018-12-31</td>\n",
       "      <td>1000_247</td>\n",
       "      <td>2018-12-27</td>\n",
       "    </tr>\n",
       "    <tr>\n",
       "      <td>3</td>\n",
       "      <td>1000</td>\n",
       "      <td>ultimate</td>\n",
       "      <td>2018-12-24</td>\n",
       "      <td>2018-12-31</td>\n",
       "      <td>1000_309</td>\n",
       "      <td>2018-12-28</td>\n",
       "    </tr>\n",
       "    <tr>\n",
       "      <td>4</td>\n",
       "      <td>1000</td>\n",
       "      <td>ultimate</td>\n",
       "      <td>2018-12-24</td>\n",
       "      <td>2018-12-31</td>\n",
       "      <td>1000_380</td>\n",
       "      <td>2018-12-30</td>\n",
       "    </tr>\n",
       "  </tbody>\n",
       "</table>\n",
       "</div>"
      ],
      "text/plain": [
       "   user_id      plan   reg_date churn_date        id  call_date\n",
       "0     1000  ultimate 2018-12-24 2018-12-31   1000_93 2018-12-27\n",
       "1     1000  ultimate 2018-12-24 2018-12-31  1000_145 2018-12-27\n",
       "2     1000  ultimate 2018-12-24 2018-12-31  1000_247 2018-12-27\n",
       "3     1000  ultimate 2018-12-24 2018-12-31  1000_309 2018-12-28\n",
       "4     1000  ultimate 2018-12-24 2018-12-31  1000_380 2018-12-30"
      ]
     },
     "execution_count": 22,
     "metadata": {},
     "output_type": "execute_result"
    }
   ],
   "source": [
    "filtered_merging_users_calls = merging_users_calls.query('call_date <= churn_date ')\n",
    "filtered_merging_users_calls.head()"
   ]
  },
  {
   "cell_type": "markdown",
   "metadata": {},
   "source": [
    "**Merging \"megaline_users\" & \"megaline_messages\" dataset:**"
   ]
  },
  {
   "cell_type": "code",
   "execution_count": 23,
   "metadata": {},
   "outputs": [
    {
     "data": {
      "text/html": [
       "<div>\n",
       "<style scoped>\n",
       "    .dataframe tbody tr th:only-of-type {\n",
       "        vertical-align: middle;\n",
       "    }\n",
       "\n",
       "    .dataframe tbody tr th {\n",
       "        vertical-align: top;\n",
       "    }\n",
       "\n",
       "    .dataframe thead th {\n",
       "        text-align: right;\n",
       "    }\n",
       "</style>\n",
       "<table border=\"1\" class=\"dataframe\">\n",
       "  <thead>\n",
       "    <tr style=\"text-align: right;\">\n",
       "      <th></th>\n",
       "      <th>user_id</th>\n",
       "      <th>plan</th>\n",
       "      <th>reg_date</th>\n",
       "      <th>churn_date</th>\n",
       "      <th>id</th>\n",
       "      <th>message_date</th>\n",
       "    </tr>\n",
       "  </thead>\n",
       "  <tbody>\n",
       "    <tr>\n",
       "      <td>0</td>\n",
       "      <td>1000</td>\n",
       "      <td>ultimate</td>\n",
       "      <td>2018-12-24</td>\n",
       "      <td>2018-12-31</td>\n",
       "      <td>1000_125</td>\n",
       "      <td>2018-12-27</td>\n",
       "    </tr>\n",
       "    <tr>\n",
       "      <td>1</td>\n",
       "      <td>1000</td>\n",
       "      <td>ultimate</td>\n",
       "      <td>2018-12-24</td>\n",
       "      <td>2018-12-31</td>\n",
       "      <td>1000_160</td>\n",
       "      <td>2018-12-31</td>\n",
       "    </tr>\n",
       "    <tr>\n",
       "      <td>2</td>\n",
       "      <td>1000</td>\n",
       "      <td>ultimate</td>\n",
       "      <td>2018-12-24</td>\n",
       "      <td>2018-12-31</td>\n",
       "      <td>1000_223</td>\n",
       "      <td>2018-12-31</td>\n",
       "    </tr>\n",
       "    <tr>\n",
       "      <td>3</td>\n",
       "      <td>1000</td>\n",
       "      <td>ultimate</td>\n",
       "      <td>2018-12-24</td>\n",
       "      <td>2018-12-31</td>\n",
       "      <td>1000_251</td>\n",
       "      <td>2018-12-27</td>\n",
       "    </tr>\n",
       "    <tr>\n",
       "      <td>4</td>\n",
       "      <td>1000</td>\n",
       "      <td>ultimate</td>\n",
       "      <td>2018-12-24</td>\n",
       "      <td>2018-12-31</td>\n",
       "      <td>1000_255</td>\n",
       "      <td>2018-12-26</td>\n",
       "    </tr>\n",
       "  </tbody>\n",
       "</table>\n",
       "</div>"
      ],
      "text/plain": [
       "   user_id      plan   reg_date churn_date        id message_date\n",
       "0     1000  ultimate 2018-12-24 2018-12-31  1000_125   2018-12-27\n",
       "1     1000  ultimate 2018-12-24 2018-12-31  1000_160   2018-12-31\n",
       "2     1000  ultimate 2018-12-24 2018-12-31  1000_223   2018-12-31\n",
       "3     1000  ultimate 2018-12-24 2018-12-31  1000_251   2018-12-27\n",
       "4     1000  ultimate 2018-12-24 2018-12-31  1000_255   2018-12-26"
      ]
     },
     "execution_count": 23,
     "metadata": {},
     "output_type": "execute_result"
    }
   ],
   "source": [
    "merging_users_messages = megaline_users[['user_id','plan','reg_date','churn_date']].merge(megaline_messages[['id','user_id','message_date']],on='user_id',how='left')\n",
    "merging_users_messages.head()"
   ]
  },
  {
   "cell_type": "markdown",
   "metadata": {},
   "source": [
    "**Checking messages before the date of registration:**"
   ]
  },
  {
   "cell_type": "code",
   "execution_count": 24,
   "metadata": {},
   "outputs": [
    {
     "data": {
      "text/html": [
       "<div>\n",
       "<style scoped>\n",
       "    .dataframe tbody tr th:only-of-type {\n",
       "        vertical-align: middle;\n",
       "    }\n",
       "\n",
       "    .dataframe tbody tr th {\n",
       "        vertical-align: top;\n",
       "    }\n",
       "\n",
       "    .dataframe thead th {\n",
       "        text-align: right;\n",
       "    }\n",
       "</style>\n",
       "<table border=\"1\" class=\"dataframe\">\n",
       "  <thead>\n",
       "    <tr style=\"text-align: right;\">\n",
       "      <th></th>\n",
       "      <th>user_id</th>\n",
       "      <th>plan</th>\n",
       "      <th>reg_date</th>\n",
       "      <th>churn_date</th>\n",
       "      <th>id</th>\n",
       "      <th>message_date</th>\n",
       "    </tr>\n",
       "  </thead>\n",
       "  <tbody>\n",
       "  </tbody>\n",
       "</table>\n",
       "</div>"
      ],
      "text/plain": [
       "Empty DataFrame\n",
       "Columns: [user_id, plan, reg_date, churn_date, id, message_date]\n",
       "Index: []"
      ]
     },
     "execution_count": 24,
     "metadata": {},
     "output_type": "execute_result"
    }
   ],
   "source": [
    "merging_users_messages[merging_users_messages.message_date < merging_users_messages.reg_date] "
   ]
  },
  {
   "cell_type": "markdown",
   "metadata": {},
   "source": [
    "**Checking messages after cancelling the registration:**"
   ]
  },
  {
   "cell_type": "code",
   "execution_count": 25,
   "metadata": {},
   "outputs": [
    {
     "data": {
      "text/html": [
       "<div>\n",
       "<style scoped>\n",
       "    .dataframe tbody tr th:only-of-type {\n",
       "        vertical-align: middle;\n",
       "    }\n",
       "\n",
       "    .dataframe tbody tr th {\n",
       "        vertical-align: top;\n",
       "    }\n",
       "\n",
       "    .dataframe thead th {\n",
       "        text-align: right;\n",
       "    }\n",
       "</style>\n",
       "<table border=\"1\" class=\"dataframe\">\n",
       "  <thead>\n",
       "    <tr style=\"text-align: right;\">\n",
       "      <th></th>\n",
       "      <th>user_id</th>\n",
       "      <th>plan</th>\n",
       "      <th>reg_date</th>\n",
       "      <th>churn_date</th>\n",
       "      <th>id</th>\n",
       "      <th>message_date</th>\n",
       "    </tr>\n",
       "  </thead>\n",
       "  <tbody>\n",
       "    <tr>\n",
       "      <td>544</td>\n",
       "      <td>1006</td>\n",
       "      <td>ultimate</td>\n",
       "      <td>2018-11-27</td>\n",
       "      <td>2018-12-18</td>\n",
       "      <td>1006_2</td>\n",
       "      <td>2018-12-25</td>\n",
       "    </tr>\n",
       "    <tr>\n",
       "      <td>547</td>\n",
       "      <td>1006</td>\n",
       "      <td>ultimate</td>\n",
       "      <td>2018-11-27</td>\n",
       "      <td>2018-12-18</td>\n",
       "      <td>1006_12</td>\n",
       "      <td>2018-12-20</td>\n",
       "    </tr>\n",
       "    <tr>\n",
       "      <td>548</td>\n",
       "      <td>1006</td>\n",
       "      <td>ultimate</td>\n",
       "      <td>2018-11-27</td>\n",
       "      <td>2018-12-18</td>\n",
       "      <td>1006_14</td>\n",
       "      <td>2018-12-29</td>\n",
       "    </tr>\n",
       "    <tr>\n",
       "      <td>549</td>\n",
       "      <td>1006</td>\n",
       "      <td>ultimate</td>\n",
       "      <td>2018-11-27</td>\n",
       "      <td>2018-12-18</td>\n",
       "      <td>1006_15</td>\n",
       "      <td>2018-12-20</td>\n",
       "    </tr>\n",
       "    <tr>\n",
       "      <td>552</td>\n",
       "      <td>1006</td>\n",
       "      <td>ultimate</td>\n",
       "      <td>2018-11-27</td>\n",
       "      <td>2018-12-18</td>\n",
       "      <td>1006_30</td>\n",
       "      <td>2018-12-23</td>\n",
       "    </tr>\n",
       "    <tr>\n",
       "      <td>...</td>\n",
       "      <td>...</td>\n",
       "      <td>...</td>\n",
       "      <td>...</td>\n",
       "      <td>...</td>\n",
       "      <td>...</td>\n",
       "      <td>...</td>\n",
       "    </tr>\n",
       "    <tr>\n",
       "      <td>75735</td>\n",
       "      <td>1491</td>\n",
       "      <td>surf</td>\n",
       "      <td>2018-04-27</td>\n",
       "      <td>2018-09-18</td>\n",
       "      <td>1491_578</td>\n",
       "      <td>2018-11-04</td>\n",
       "    </tr>\n",
       "    <tr>\n",
       "      <td>75742</td>\n",
       "      <td>1491</td>\n",
       "      <td>surf</td>\n",
       "      <td>2018-04-27</td>\n",
       "      <td>2018-09-18</td>\n",
       "      <td>1491_589</td>\n",
       "      <td>2018-11-20</td>\n",
       "    </tr>\n",
       "    <tr>\n",
       "      <td>75744</td>\n",
       "      <td>1491</td>\n",
       "      <td>surf</td>\n",
       "      <td>2018-04-27</td>\n",
       "      <td>2018-09-18</td>\n",
       "      <td>1491_591</td>\n",
       "      <td>2018-11-27</td>\n",
       "    </tr>\n",
       "    <tr>\n",
       "      <td>75746</td>\n",
       "      <td>1491</td>\n",
       "      <td>surf</td>\n",
       "      <td>2018-04-27</td>\n",
       "      <td>2018-09-18</td>\n",
       "      <td>1491_597</td>\n",
       "      <td>2018-10-17</td>\n",
       "    </tr>\n",
       "    <tr>\n",
       "      <td>75747</td>\n",
       "      <td>1491</td>\n",
       "      <td>surf</td>\n",
       "      <td>2018-04-27</td>\n",
       "      <td>2018-09-18</td>\n",
       "      <td>1491_598</td>\n",
       "      <td>2018-10-20</td>\n",
       "    </tr>\n",
       "  </tbody>\n",
       "</table>\n",
       "<p>1591 rows × 6 columns</p>\n",
       "</div>"
      ],
      "text/plain": [
       "       user_id      plan   reg_date churn_date        id message_date\n",
       "544       1006  ultimate 2018-11-27 2018-12-18    1006_2   2018-12-25\n",
       "547       1006  ultimate 2018-11-27 2018-12-18   1006_12   2018-12-20\n",
       "548       1006  ultimate 2018-11-27 2018-12-18   1006_14   2018-12-29\n",
       "549       1006  ultimate 2018-11-27 2018-12-18   1006_15   2018-12-20\n",
       "552       1006  ultimate 2018-11-27 2018-12-18   1006_30   2018-12-23\n",
       "...        ...       ...        ...        ...       ...          ...\n",
       "75735     1491      surf 2018-04-27 2018-09-18  1491_578   2018-11-04\n",
       "75742     1491      surf 2018-04-27 2018-09-18  1491_589   2018-11-20\n",
       "75744     1491      surf 2018-04-27 2018-09-18  1491_591   2018-11-27\n",
       "75746     1491      surf 2018-04-27 2018-09-18  1491_597   2018-10-17\n",
       "75747     1491      surf 2018-04-27 2018-09-18  1491_598   2018-10-20\n",
       "\n",
       "[1591 rows x 6 columns]"
      ]
     },
     "metadata": {},
     "output_type": "display_data"
    }
   ],
   "source": [
    "display(merging_users_messages[merging_users_messages.message_date > merging_users_messages.churn_date]) "
   ]
  },
  {
   "cell_type": "markdown",
   "metadata": {},
   "source": [
    "**Checking mesagess between \"reg_date\" & \"churn_date\":**"
   ]
  },
  {
   "cell_type": "code",
   "execution_count": 26,
   "metadata": {},
   "outputs": [
    {
     "data": {
      "text/html": [
       "<div>\n",
       "<style scoped>\n",
       "    .dataframe tbody tr th:only-of-type {\n",
       "        vertical-align: middle;\n",
       "    }\n",
       "\n",
       "    .dataframe tbody tr th {\n",
       "        vertical-align: top;\n",
       "    }\n",
       "\n",
       "    .dataframe thead th {\n",
       "        text-align: right;\n",
       "    }\n",
       "</style>\n",
       "<table border=\"1\" class=\"dataframe\">\n",
       "  <thead>\n",
       "    <tr style=\"text-align: right;\">\n",
       "      <th></th>\n",
       "      <th>user_id</th>\n",
       "      <th>plan</th>\n",
       "      <th>reg_date</th>\n",
       "      <th>churn_date</th>\n",
       "      <th>id</th>\n",
       "      <th>message_date</th>\n",
       "    </tr>\n",
       "  </thead>\n",
       "  <tbody>\n",
       "    <tr>\n",
       "      <td>0</td>\n",
       "      <td>1000</td>\n",
       "      <td>ultimate</td>\n",
       "      <td>2018-12-24</td>\n",
       "      <td>2018-12-31</td>\n",
       "      <td>1000_125</td>\n",
       "      <td>2018-12-27</td>\n",
       "    </tr>\n",
       "    <tr>\n",
       "      <td>1</td>\n",
       "      <td>1000</td>\n",
       "      <td>ultimate</td>\n",
       "      <td>2018-12-24</td>\n",
       "      <td>2018-12-31</td>\n",
       "      <td>1000_160</td>\n",
       "      <td>2018-12-31</td>\n",
       "    </tr>\n",
       "    <tr>\n",
       "      <td>2</td>\n",
       "      <td>1000</td>\n",
       "      <td>ultimate</td>\n",
       "      <td>2018-12-24</td>\n",
       "      <td>2018-12-31</td>\n",
       "      <td>1000_223</td>\n",
       "      <td>2018-12-31</td>\n",
       "    </tr>\n",
       "    <tr>\n",
       "      <td>3</td>\n",
       "      <td>1000</td>\n",
       "      <td>ultimate</td>\n",
       "      <td>2018-12-24</td>\n",
       "      <td>2018-12-31</td>\n",
       "      <td>1000_251</td>\n",
       "      <td>2018-12-27</td>\n",
       "    </tr>\n",
       "    <tr>\n",
       "      <td>4</td>\n",
       "      <td>1000</td>\n",
       "      <td>ultimate</td>\n",
       "      <td>2018-12-24</td>\n",
       "      <td>2018-12-31</td>\n",
       "      <td>1000_255</td>\n",
       "      <td>2018-12-26</td>\n",
       "    </tr>\n",
       "  </tbody>\n",
       "</table>\n",
       "</div>"
      ],
      "text/plain": [
       "   user_id      plan   reg_date churn_date        id message_date\n",
       "0     1000  ultimate 2018-12-24 2018-12-31  1000_125   2018-12-27\n",
       "1     1000  ultimate 2018-12-24 2018-12-31  1000_160   2018-12-31\n",
       "2     1000  ultimate 2018-12-24 2018-12-31  1000_223   2018-12-31\n",
       "3     1000  ultimate 2018-12-24 2018-12-31  1000_251   2018-12-27\n",
       "4     1000  ultimate 2018-12-24 2018-12-31  1000_255   2018-12-26"
      ]
     },
     "execution_count": 26,
     "metadata": {},
     "output_type": "execute_result"
    }
   ],
   "source": [
    "filtered_merging_users_messages = merging_users_messages.query('message_date <= churn_date ')\n",
    "filtered_merging_users_messages.head()"
   ]
  },
  {
   "cell_type": "markdown",
   "metadata": {},
   "source": [
    "**Merging \"megaline_users\" & \"megaline_internet\" dataset:**"
   ]
  },
  {
   "cell_type": "code",
   "execution_count": 27,
   "metadata": {},
   "outputs": [
    {
     "data": {
      "text/html": [
       "<div>\n",
       "<style scoped>\n",
       "    .dataframe tbody tr th:only-of-type {\n",
       "        vertical-align: middle;\n",
       "    }\n",
       "\n",
       "    .dataframe tbody tr th {\n",
       "        vertical-align: top;\n",
       "    }\n",
       "\n",
       "    .dataframe thead th {\n",
       "        text-align: right;\n",
       "    }\n",
       "</style>\n",
       "<table border=\"1\" class=\"dataframe\">\n",
       "  <thead>\n",
       "    <tr style=\"text-align: right;\">\n",
       "      <th></th>\n",
       "      <th>user_id</th>\n",
       "      <th>plan</th>\n",
       "      <th>reg_date</th>\n",
       "      <th>churn_date</th>\n",
       "      <th>id</th>\n",
       "      <th>session_date</th>\n",
       "    </tr>\n",
       "  </thead>\n",
       "  <tbody>\n",
       "    <tr>\n",
       "      <td>0</td>\n",
       "      <td>1000</td>\n",
       "      <td>ultimate</td>\n",
       "      <td>2018-12-24</td>\n",
       "      <td>2018-12-31</td>\n",
       "      <td>1000_13</td>\n",
       "      <td>2018-12-29</td>\n",
       "    </tr>\n",
       "    <tr>\n",
       "      <td>1</td>\n",
       "      <td>1000</td>\n",
       "      <td>ultimate</td>\n",
       "      <td>2018-12-24</td>\n",
       "      <td>2018-12-31</td>\n",
       "      <td>1000_204</td>\n",
       "      <td>2018-12-31</td>\n",
       "    </tr>\n",
       "    <tr>\n",
       "      <td>2</td>\n",
       "      <td>1000</td>\n",
       "      <td>ultimate</td>\n",
       "      <td>2018-12-24</td>\n",
       "      <td>2018-12-31</td>\n",
       "      <td>1000_379</td>\n",
       "      <td>2018-12-28</td>\n",
       "    </tr>\n",
       "    <tr>\n",
       "      <td>3</td>\n",
       "      <td>1000</td>\n",
       "      <td>ultimate</td>\n",
       "      <td>2018-12-24</td>\n",
       "      <td>2018-12-31</td>\n",
       "      <td>1000_413</td>\n",
       "      <td>2018-12-26</td>\n",
       "    </tr>\n",
       "    <tr>\n",
       "      <td>4</td>\n",
       "      <td>1000</td>\n",
       "      <td>ultimate</td>\n",
       "      <td>2018-12-24</td>\n",
       "      <td>2018-12-31</td>\n",
       "      <td>1000_442</td>\n",
       "      <td>2018-12-27</td>\n",
       "    </tr>\n",
       "  </tbody>\n",
       "</table>\n",
       "</div>"
      ],
      "text/plain": [
       "   user_id      plan   reg_date churn_date        id session_date\n",
       "0     1000  ultimate 2018-12-24 2018-12-31   1000_13   2018-12-29\n",
       "1     1000  ultimate 2018-12-24 2018-12-31  1000_204   2018-12-31\n",
       "2     1000  ultimate 2018-12-24 2018-12-31  1000_379   2018-12-28\n",
       "3     1000  ultimate 2018-12-24 2018-12-31  1000_413   2018-12-26\n",
       "4     1000  ultimate 2018-12-24 2018-12-31  1000_442   2018-12-27"
      ]
     },
     "execution_count": 27,
     "metadata": {},
     "output_type": "execute_result"
    }
   ],
   "source": [
    "merging_users_internet = megaline_users[['user_id','plan','reg_date','churn_date']].merge(megaline_internet[['id','user_id','session_date']],on='user_id',how='left')\n",
    "merging_users_internet.head()"
   ]
  },
  {
   "cell_type": "markdown",
   "metadata": {},
   "source": [
    "**Checking internet user before the date of registration:**"
   ]
  },
  {
   "cell_type": "code",
   "execution_count": 28,
   "metadata": {},
   "outputs": [
    {
     "data": {
      "text/html": [
       "<div>\n",
       "<style scoped>\n",
       "    .dataframe tbody tr th:only-of-type {\n",
       "        vertical-align: middle;\n",
       "    }\n",
       "\n",
       "    .dataframe tbody tr th {\n",
       "        vertical-align: top;\n",
       "    }\n",
       "\n",
       "    .dataframe thead th {\n",
       "        text-align: right;\n",
       "    }\n",
       "</style>\n",
       "<table border=\"1\" class=\"dataframe\">\n",
       "  <thead>\n",
       "    <tr style=\"text-align: right;\">\n",
       "      <th></th>\n",
       "      <th>user_id</th>\n",
       "      <th>plan</th>\n",
       "      <th>reg_date</th>\n",
       "      <th>churn_date</th>\n",
       "      <th>id</th>\n",
       "      <th>session_date</th>\n",
       "    </tr>\n",
       "  </thead>\n",
       "  <tbody>\n",
       "  </tbody>\n",
       "</table>\n",
       "</div>"
      ],
      "text/plain": [
       "Empty DataFrame\n",
       "Columns: [user_id, plan, reg_date, churn_date, id, session_date]\n",
       "Index: []"
      ]
     },
     "execution_count": 28,
     "metadata": {},
     "output_type": "execute_result"
    }
   ],
   "source": [
    "merging_users_internet[merging_users_internet.session_date < merging_users_internet.reg_date] "
   ]
  },
  {
   "cell_type": "markdown",
   "metadata": {},
   "source": [
    "**Checking internet user after cancelling the registration:**"
   ]
  },
  {
   "cell_type": "code",
   "execution_count": 29,
   "metadata": {},
   "outputs": [
    {
     "data": {
      "text/html": [
       "<div>\n",
       "<style scoped>\n",
       "    .dataframe tbody tr th:only-of-type {\n",
       "        vertical-align: middle;\n",
       "    }\n",
       "\n",
       "    .dataframe tbody tr th {\n",
       "        vertical-align: top;\n",
       "    }\n",
       "\n",
       "    .dataframe thead th {\n",
       "        text-align: right;\n",
       "    }\n",
       "</style>\n",
       "<table border=\"1\" class=\"dataframe\">\n",
       "  <thead>\n",
       "    <tr style=\"text-align: right;\">\n",
       "      <th></th>\n",
       "      <th>user_id</th>\n",
       "      <th>plan</th>\n",
       "      <th>reg_date</th>\n",
       "      <th>churn_date</th>\n",
       "      <th>id</th>\n",
       "      <th>session_date</th>\n",
       "    </tr>\n",
       "  </thead>\n",
       "  <tbody>\n",
       "    <tr>\n",
       "      <td>948</td>\n",
       "      <td>1006</td>\n",
       "      <td>ultimate</td>\n",
       "      <td>2018-11-27</td>\n",
       "      <td>2018-12-18</td>\n",
       "      <td>1006_14</td>\n",
       "      <td>2018-12-24</td>\n",
       "    </tr>\n",
       "    <tr>\n",
       "      <td>954</td>\n",
       "      <td>1006</td>\n",
       "      <td>ultimate</td>\n",
       "      <td>2018-11-27</td>\n",
       "      <td>2018-12-18</td>\n",
       "      <td>1006_25</td>\n",
       "      <td>2018-12-22</td>\n",
       "    </tr>\n",
       "    <tr>\n",
       "      <td>955</td>\n",
       "      <td>1006</td>\n",
       "      <td>ultimate</td>\n",
       "      <td>2018-11-27</td>\n",
       "      <td>2018-12-18</td>\n",
       "      <td>1006_26</td>\n",
       "      <td>2018-12-25</td>\n",
       "    </tr>\n",
       "    <tr>\n",
       "      <td>956</td>\n",
       "      <td>1006</td>\n",
       "      <td>ultimate</td>\n",
       "      <td>2018-11-27</td>\n",
       "      <td>2018-12-18</td>\n",
       "      <td>1006_31</td>\n",
       "      <td>2018-12-24</td>\n",
       "    </tr>\n",
       "    <tr>\n",
       "      <td>957</td>\n",
       "      <td>1006</td>\n",
       "      <td>ultimate</td>\n",
       "      <td>2018-11-27</td>\n",
       "      <td>2018-12-18</td>\n",
       "      <td>1006_49</td>\n",
       "      <td>2018-12-25</td>\n",
       "    </tr>\n",
       "    <tr>\n",
       "      <td>...</td>\n",
       "      <td>...</td>\n",
       "      <td>...</td>\n",
       "      <td>...</td>\n",
       "      <td>...</td>\n",
       "      <td>...</td>\n",
       "      <td>...</td>\n",
       "    </tr>\n",
       "    <tr>\n",
       "      <td>102763</td>\n",
       "      <td>1491</td>\n",
       "      <td>surf</td>\n",
       "      <td>2018-04-27</td>\n",
       "      <td>2018-09-18</td>\n",
       "      <td>1491_247</td>\n",
       "      <td>2018-10-30</td>\n",
       "    </tr>\n",
       "    <tr>\n",
       "      <td>102764</td>\n",
       "      <td>1491</td>\n",
       "      <td>surf</td>\n",
       "      <td>2018-04-27</td>\n",
       "      <td>2018-09-18</td>\n",
       "      <td>1491_249</td>\n",
       "      <td>2018-11-28</td>\n",
       "    </tr>\n",
       "    <tr>\n",
       "      <td>102766</td>\n",
       "      <td>1491</td>\n",
       "      <td>surf</td>\n",
       "      <td>2018-04-27</td>\n",
       "      <td>2018-09-18</td>\n",
       "      <td>1491_251</td>\n",
       "      <td>2018-12-24</td>\n",
       "    </tr>\n",
       "    <tr>\n",
       "      <td>102772</td>\n",
       "      <td>1491</td>\n",
       "      <td>surf</td>\n",
       "      <td>2018-04-27</td>\n",
       "      <td>2018-09-18</td>\n",
       "      <td>1491_262</td>\n",
       "      <td>2018-11-11</td>\n",
       "    </tr>\n",
       "    <tr>\n",
       "      <td>102776</td>\n",
       "      <td>1491</td>\n",
       "      <td>surf</td>\n",
       "      <td>2018-04-27</td>\n",
       "      <td>2018-09-18</td>\n",
       "      <td>1491_268</td>\n",
       "      <td>2018-12-27</td>\n",
       "    </tr>\n",
       "  </tbody>\n",
       "</table>\n",
       "<p>2463 rows × 6 columns</p>\n",
       "</div>"
      ],
      "text/plain": [
       "        user_id      plan   reg_date churn_date        id session_date\n",
       "948        1006  ultimate 2018-11-27 2018-12-18   1006_14   2018-12-24\n",
       "954        1006  ultimate 2018-11-27 2018-12-18   1006_25   2018-12-22\n",
       "955        1006  ultimate 2018-11-27 2018-12-18   1006_26   2018-12-25\n",
       "956        1006  ultimate 2018-11-27 2018-12-18   1006_31   2018-12-24\n",
       "957        1006  ultimate 2018-11-27 2018-12-18   1006_49   2018-12-25\n",
       "...         ...       ...        ...        ...       ...          ...\n",
       "102763     1491      surf 2018-04-27 2018-09-18  1491_247   2018-10-30\n",
       "102764     1491      surf 2018-04-27 2018-09-18  1491_249   2018-11-28\n",
       "102766     1491      surf 2018-04-27 2018-09-18  1491_251   2018-12-24\n",
       "102772     1491      surf 2018-04-27 2018-09-18  1491_262   2018-11-11\n",
       "102776     1491      surf 2018-04-27 2018-09-18  1491_268   2018-12-27\n",
       "\n",
       "[2463 rows x 6 columns]"
      ]
     },
     "metadata": {},
     "output_type": "display_data"
    }
   ],
   "source": [
    "display(merging_users_internet[merging_users_internet.session_date > merging_users_internet.churn_date]) "
   ]
  },
  {
   "cell_type": "markdown",
   "metadata": {},
   "source": [
    "**Checking internet user between \"reg_date\" & \"churn_date\":**"
   ]
  },
  {
   "cell_type": "code",
   "execution_count": 30,
   "metadata": {},
   "outputs": [
    {
     "data": {
      "text/html": [
       "<div>\n",
       "<style scoped>\n",
       "    .dataframe tbody tr th:only-of-type {\n",
       "        vertical-align: middle;\n",
       "    }\n",
       "\n",
       "    .dataframe tbody tr th {\n",
       "        vertical-align: top;\n",
       "    }\n",
       "\n",
       "    .dataframe thead th {\n",
       "        text-align: right;\n",
       "    }\n",
       "</style>\n",
       "<table border=\"1\" class=\"dataframe\">\n",
       "  <thead>\n",
       "    <tr style=\"text-align: right;\">\n",
       "      <th></th>\n",
       "      <th>user_id</th>\n",
       "      <th>plan</th>\n",
       "      <th>reg_date</th>\n",
       "      <th>churn_date</th>\n",
       "      <th>id</th>\n",
       "      <th>session_date</th>\n",
       "    </tr>\n",
       "  </thead>\n",
       "  <tbody>\n",
       "    <tr>\n",
       "      <td>0</td>\n",
       "      <td>1000</td>\n",
       "      <td>ultimate</td>\n",
       "      <td>2018-12-24</td>\n",
       "      <td>2018-12-31</td>\n",
       "      <td>1000_13</td>\n",
       "      <td>2018-12-29</td>\n",
       "    </tr>\n",
       "    <tr>\n",
       "      <td>1</td>\n",
       "      <td>1000</td>\n",
       "      <td>ultimate</td>\n",
       "      <td>2018-12-24</td>\n",
       "      <td>2018-12-31</td>\n",
       "      <td>1000_204</td>\n",
       "      <td>2018-12-31</td>\n",
       "    </tr>\n",
       "    <tr>\n",
       "      <td>2</td>\n",
       "      <td>1000</td>\n",
       "      <td>ultimate</td>\n",
       "      <td>2018-12-24</td>\n",
       "      <td>2018-12-31</td>\n",
       "      <td>1000_379</td>\n",
       "      <td>2018-12-28</td>\n",
       "    </tr>\n",
       "    <tr>\n",
       "      <td>3</td>\n",
       "      <td>1000</td>\n",
       "      <td>ultimate</td>\n",
       "      <td>2018-12-24</td>\n",
       "      <td>2018-12-31</td>\n",
       "      <td>1000_413</td>\n",
       "      <td>2018-12-26</td>\n",
       "    </tr>\n",
       "    <tr>\n",
       "      <td>4</td>\n",
       "      <td>1000</td>\n",
       "      <td>ultimate</td>\n",
       "      <td>2018-12-24</td>\n",
       "      <td>2018-12-31</td>\n",
       "      <td>1000_442</td>\n",
       "      <td>2018-12-27</td>\n",
       "    </tr>\n",
       "  </tbody>\n",
       "</table>\n",
       "</div>"
      ],
      "text/plain": [
       "   user_id      plan   reg_date churn_date        id session_date\n",
       "0     1000  ultimate 2018-12-24 2018-12-31   1000_13   2018-12-29\n",
       "1     1000  ultimate 2018-12-24 2018-12-31  1000_204   2018-12-31\n",
       "2     1000  ultimate 2018-12-24 2018-12-31  1000_379   2018-12-28\n",
       "3     1000  ultimate 2018-12-24 2018-12-31  1000_413   2018-12-26\n",
       "4     1000  ultimate 2018-12-24 2018-12-31  1000_442   2018-12-27"
      ]
     },
     "execution_count": 30,
     "metadata": {},
     "output_type": "execute_result"
    }
   ],
   "source": [
    "filtered_merging_users_internet = merging_users_internet.query('session_date <= churn_date ')\n",
    "filtered_merging_users_internet.head()"
   ]
  },
  {
   "cell_type": "markdown",
   "metadata": {},
   "source": [
    "**In the \"megaline_users\" dataset, subtracting from \"churn_date\" to \"reg_date\" and put the result in a new column named \"day_of_use\"**"
   ]
  },
  {
   "cell_type": "code",
   "execution_count": 31,
   "metadata": {},
   "outputs": [
    {
     "data": {
      "text/html": [
       "<div>\n",
       "<style scoped>\n",
       "    .dataframe tbody tr th:only-of-type {\n",
       "        vertical-align: middle;\n",
       "    }\n",
       "\n",
       "    .dataframe tbody tr th {\n",
       "        vertical-align: top;\n",
       "    }\n",
       "\n",
       "    .dataframe thead th {\n",
       "        text-align: right;\n",
       "    }\n",
       "</style>\n",
       "<table border=\"1\" class=\"dataframe\">\n",
       "  <thead>\n",
       "    <tr style=\"text-align: right;\">\n",
       "      <th></th>\n",
       "      <th>user_id</th>\n",
       "      <th>first_name</th>\n",
       "      <th>last_name</th>\n",
       "      <th>age</th>\n",
       "      <th>city</th>\n",
       "      <th>reg_date</th>\n",
       "      <th>plan</th>\n",
       "      <th>churn_date</th>\n",
       "      <th>day_of_use</th>\n",
       "    </tr>\n",
       "  </thead>\n",
       "  <tbody>\n",
       "    <tr>\n",
       "      <td>0</td>\n",
       "      <td>1000</td>\n",
       "      <td>Anamaria</td>\n",
       "      <td>Bauer</td>\n",
       "      <td>45</td>\n",
       "      <td>Atlanta-Sandy Springs-Roswell, GA MSA</td>\n",
       "      <td>2018-12-24</td>\n",
       "      <td>ultimate</td>\n",
       "      <td>2018-12-31</td>\n",
       "      <td>7.0</td>\n",
       "    </tr>\n",
       "    <tr>\n",
       "      <td>1</td>\n",
       "      <td>1001</td>\n",
       "      <td>Mickey</td>\n",
       "      <td>Wilkerson</td>\n",
       "      <td>28</td>\n",
       "      <td>Seattle-Tacoma-Bellevue, WA MSA</td>\n",
       "      <td>2018-08-13</td>\n",
       "      <td>surf</td>\n",
       "      <td>2018-12-31</td>\n",
       "      <td>140.0</td>\n",
       "    </tr>\n",
       "    <tr>\n",
       "      <td>2</td>\n",
       "      <td>1002</td>\n",
       "      <td>Carlee</td>\n",
       "      <td>Hoffman</td>\n",
       "      <td>36</td>\n",
       "      <td>Las Vegas-Henderson-Paradise, NV MSA</td>\n",
       "      <td>2018-10-21</td>\n",
       "      <td>surf</td>\n",
       "      <td>2018-12-31</td>\n",
       "      <td>71.0</td>\n",
       "    </tr>\n",
       "    <tr>\n",
       "      <td>3</td>\n",
       "      <td>1003</td>\n",
       "      <td>Reynaldo</td>\n",
       "      <td>Jenkins</td>\n",
       "      <td>52</td>\n",
       "      <td>Tulsa, OK MSA</td>\n",
       "      <td>2018-01-28</td>\n",
       "      <td>surf</td>\n",
       "      <td>2018-12-31</td>\n",
       "      <td>337.0</td>\n",
       "    </tr>\n",
       "    <tr>\n",
       "      <td>4</td>\n",
       "      <td>1004</td>\n",
       "      <td>Leonila</td>\n",
       "      <td>Thompson</td>\n",
       "      <td>40</td>\n",
       "      <td>Seattle-Tacoma-Bellevue, WA MSA</td>\n",
       "      <td>2018-05-23</td>\n",
       "      <td>surf</td>\n",
       "      <td>2018-12-31</td>\n",
       "      <td>222.0</td>\n",
       "    </tr>\n",
       "  </tbody>\n",
       "</table>\n",
       "</div>"
      ],
      "text/plain": [
       "   user_id first_name  last_name  age                                   city  \\\n",
       "0     1000   Anamaria      Bauer   45  Atlanta-Sandy Springs-Roswell, GA MSA   \n",
       "1     1001     Mickey  Wilkerson   28        Seattle-Tacoma-Bellevue, WA MSA   \n",
       "2     1002     Carlee    Hoffman   36   Las Vegas-Henderson-Paradise, NV MSA   \n",
       "3     1003   Reynaldo    Jenkins   52                          Tulsa, OK MSA   \n",
       "4     1004    Leonila   Thompson   40        Seattle-Tacoma-Bellevue, WA MSA   \n",
       "\n",
       "    reg_date      plan churn_date  day_of_use  \n",
       "0 2018-12-24  ultimate 2018-12-31         7.0  \n",
       "1 2018-08-13      surf 2018-12-31       140.0  \n",
       "2 2018-10-21      surf 2018-12-31        71.0  \n",
       "3 2018-01-28      surf 2018-12-31       337.0  \n",
       "4 2018-05-23      surf 2018-12-31       222.0  "
      ]
     },
     "metadata": {},
     "output_type": "display_data"
    }
   ],
   "source": [
    "megaline_users['day_of_use'] = ((megaline_users['churn_date'] - megaline_users['reg_date']).dt.days).apply(np.ceil)\n",
    "display(megaline_users.head())"
   ]
  },
  {
   "cell_type": "markdown",
   "metadata": {},
   "source": [
    "**Deleting the column \"churn_date\" & creating a new more useful column named \"day_of_use\"**"
   ]
  },
  {
   "cell_type": "code",
   "execution_count": 32,
   "metadata": {},
   "outputs": [
    {
     "data": {
      "text/html": [
       "<div>\n",
       "<style scoped>\n",
       "    .dataframe tbody tr th:only-of-type {\n",
       "        vertical-align: middle;\n",
       "    }\n",
       "\n",
       "    .dataframe tbody tr th {\n",
       "        vertical-align: top;\n",
       "    }\n",
       "\n",
       "    .dataframe thead th {\n",
       "        text-align: right;\n",
       "    }\n",
       "</style>\n",
       "<table border=\"1\" class=\"dataframe\">\n",
       "  <thead>\n",
       "    <tr style=\"text-align: right;\">\n",
       "      <th></th>\n",
       "      <th>user_id</th>\n",
       "      <th>first_name</th>\n",
       "      <th>last_name</th>\n",
       "      <th>age</th>\n",
       "      <th>city</th>\n",
       "      <th>reg_date</th>\n",
       "      <th>plan</th>\n",
       "      <th>day_of_use</th>\n",
       "    </tr>\n",
       "  </thead>\n",
       "  <tbody>\n",
       "    <tr>\n",
       "      <td>0</td>\n",
       "      <td>1000</td>\n",
       "      <td>Anamaria</td>\n",
       "      <td>Bauer</td>\n",
       "      <td>45</td>\n",
       "      <td>Atlanta-Sandy Springs-Roswell, GA MSA</td>\n",
       "      <td>2018-12-24</td>\n",
       "      <td>ultimate</td>\n",
       "      <td>7.0</td>\n",
       "    </tr>\n",
       "    <tr>\n",
       "      <td>1</td>\n",
       "      <td>1001</td>\n",
       "      <td>Mickey</td>\n",
       "      <td>Wilkerson</td>\n",
       "      <td>28</td>\n",
       "      <td>Seattle-Tacoma-Bellevue, WA MSA</td>\n",
       "      <td>2018-08-13</td>\n",
       "      <td>surf</td>\n",
       "      <td>140.0</td>\n",
       "    </tr>\n",
       "    <tr>\n",
       "      <td>2</td>\n",
       "      <td>1002</td>\n",
       "      <td>Carlee</td>\n",
       "      <td>Hoffman</td>\n",
       "      <td>36</td>\n",
       "      <td>Las Vegas-Henderson-Paradise, NV MSA</td>\n",
       "      <td>2018-10-21</td>\n",
       "      <td>surf</td>\n",
       "      <td>71.0</td>\n",
       "    </tr>\n",
       "    <tr>\n",
       "      <td>3</td>\n",
       "      <td>1003</td>\n",
       "      <td>Reynaldo</td>\n",
       "      <td>Jenkins</td>\n",
       "      <td>52</td>\n",
       "      <td>Tulsa, OK MSA</td>\n",
       "      <td>2018-01-28</td>\n",
       "      <td>surf</td>\n",
       "      <td>337.0</td>\n",
       "    </tr>\n",
       "    <tr>\n",
       "      <td>4</td>\n",
       "      <td>1004</td>\n",
       "      <td>Leonila</td>\n",
       "      <td>Thompson</td>\n",
       "      <td>40</td>\n",
       "      <td>Seattle-Tacoma-Bellevue, WA MSA</td>\n",
       "      <td>2018-05-23</td>\n",
       "      <td>surf</td>\n",
       "      <td>222.0</td>\n",
       "    </tr>\n",
       "  </tbody>\n",
       "</table>\n",
       "</div>"
      ],
      "text/plain": [
       "   user_id first_name  last_name  age                                   city  \\\n",
       "0     1000   Anamaria      Bauer   45  Atlanta-Sandy Springs-Roswell, GA MSA   \n",
       "1     1001     Mickey  Wilkerson   28        Seattle-Tacoma-Bellevue, WA MSA   \n",
       "2     1002     Carlee    Hoffman   36   Las Vegas-Henderson-Paradise, NV MSA   \n",
       "3     1003   Reynaldo    Jenkins   52                          Tulsa, OK MSA   \n",
       "4     1004    Leonila   Thompson   40        Seattle-Tacoma-Bellevue, WA MSA   \n",
       "\n",
       "    reg_date      plan  day_of_use  \n",
       "0 2018-12-24  ultimate         7.0  \n",
       "1 2018-08-13      surf       140.0  \n",
       "2 2018-10-21      surf        71.0  \n",
       "3 2018-01-28      surf       337.0  \n",
       "4 2018-05-23      surf       222.0  "
      ]
     },
     "metadata": {},
     "output_type": "display_data"
    }
   ],
   "source": [
    "del megaline_users[\"churn_date\"]\n",
    "display(megaline_users.head())"
   ]
  },
  {
   "cell_type": "markdown",
   "metadata": {},
   "source": [
    "**In the \"megaline_calls\" dataset,creating a new column named \"call_month\" and the number of calls made and minutes used per month**"
   ]
  },
  {
   "cell_type": "code",
   "execution_count": 33,
   "metadata": {},
   "outputs": [
    {
     "data": {
      "text/html": [
       "<div>\n",
       "<style scoped>\n",
       "    .dataframe tbody tr th:only-of-type {\n",
       "        vertical-align: middle;\n",
       "    }\n",
       "\n",
       "    .dataframe tbody tr th {\n",
       "        vertical-align: top;\n",
       "    }\n",
       "\n",
       "    .dataframe thead th {\n",
       "        text-align: right;\n",
       "    }\n",
       "</style>\n",
       "<table border=\"1\" class=\"dataframe\">\n",
       "  <thead>\n",
       "    <tr style=\"text-align: right;\">\n",
       "      <th></th>\n",
       "      <th>id</th>\n",
       "      <th>user_id</th>\n",
       "      <th>call_date</th>\n",
       "      <th>duration</th>\n",
       "      <th>call_month</th>\n",
       "    </tr>\n",
       "  </thead>\n",
       "  <tbody>\n",
       "    <tr>\n",
       "      <td>0</td>\n",
       "      <td>1000_93</td>\n",
       "      <td>1000</td>\n",
       "      <td>2018-12-27</td>\n",
       "      <td>9.0</td>\n",
       "      <td>12</td>\n",
       "    </tr>\n",
       "    <tr>\n",
       "      <td>1</td>\n",
       "      <td>1000_145</td>\n",
       "      <td>1000</td>\n",
       "      <td>2018-12-27</td>\n",
       "      <td>14.0</td>\n",
       "      <td>12</td>\n",
       "    </tr>\n",
       "    <tr>\n",
       "      <td>2</td>\n",
       "      <td>1000_247</td>\n",
       "      <td>1000</td>\n",
       "      <td>2018-12-27</td>\n",
       "      <td>15.0</td>\n",
       "      <td>12</td>\n",
       "    </tr>\n",
       "    <tr>\n",
       "      <td>3</td>\n",
       "      <td>1000_309</td>\n",
       "      <td>1000</td>\n",
       "      <td>2018-12-28</td>\n",
       "      <td>6.0</td>\n",
       "      <td>12</td>\n",
       "    </tr>\n",
       "    <tr>\n",
       "      <td>4</td>\n",
       "      <td>1000_380</td>\n",
       "      <td>1000</td>\n",
       "      <td>2018-12-30</td>\n",
       "      <td>5.0</td>\n",
       "      <td>12</td>\n",
       "    </tr>\n",
       "  </tbody>\n",
       "</table>\n",
       "</div>"
      ],
      "text/plain": [
       "         id  user_id  call_date  duration  call_month\n",
       "0   1000_93     1000 2018-12-27       9.0          12\n",
       "1  1000_145     1000 2018-12-27      14.0          12\n",
       "2  1000_247     1000 2018-12-27      15.0          12\n",
       "3  1000_309     1000 2018-12-28       6.0          12\n",
       "4  1000_380     1000 2018-12-30       5.0          12"
      ]
     },
     "metadata": {},
     "output_type": "display_data"
    },
    {
     "data": {
      "text/html": [
       "<div>\n",
       "<style scoped>\n",
       "    .dataframe tbody tr th:only-of-type {\n",
       "        vertical-align: middle;\n",
       "    }\n",
       "\n",
       "    .dataframe tbody tr th {\n",
       "        vertical-align: top;\n",
       "    }\n",
       "\n",
       "    .dataframe thead th {\n",
       "        text-align: right;\n",
       "    }\n",
       "</style>\n",
       "<table border=\"1\" class=\"dataframe\">\n",
       "  <thead>\n",
       "    <tr style=\"text-align: right;\">\n",
       "      <th></th>\n",
       "      <th>user_id</th>\n",
       "      <th>call_month</th>\n",
       "      <th>duration</th>\n",
       "    </tr>\n",
       "  </thead>\n",
       "  <tbody>\n",
       "    <tr>\n",
       "      <td>0</td>\n",
       "      <td>1000</td>\n",
       "      <td>16</td>\n",
       "      <td>124.0</td>\n",
       "    </tr>\n",
       "    <tr>\n",
       "      <td>1</td>\n",
       "      <td>1001</td>\n",
       "      <td>261</td>\n",
       "      <td>1728.0</td>\n",
       "    </tr>\n",
       "    <tr>\n",
       "      <td>2</td>\n",
       "      <td>1002</td>\n",
       "      <td>113</td>\n",
       "      <td>829.0</td>\n",
       "    </tr>\n",
       "    <tr>\n",
       "      <td>3</td>\n",
       "      <td>1003</td>\n",
       "      <td>149</td>\n",
       "      <td>1104.0</td>\n",
       "    </tr>\n",
       "    <tr>\n",
       "      <td>4</td>\n",
       "      <td>1004</td>\n",
       "      <td>370</td>\n",
       "      <td>2772.0</td>\n",
       "    </tr>\n",
       "  </tbody>\n",
       "</table>\n",
       "</div>"
      ],
      "text/plain": [
       "   user_id  call_month  duration\n",
       "0     1000          16     124.0\n",
       "1     1001         261    1728.0\n",
       "2     1002         113     829.0\n",
       "3     1003         149    1104.0\n",
       "4     1004         370    2772.0"
      ]
     },
     "metadata": {},
     "output_type": "display_data"
    }
   ],
   "source": [
    "megaline_calls['call_month'] = megaline_calls['call_date'].dt.month\n",
    "display(megaline_calls.head())\n",
    "call_monthly = megaline_calls.groupby(['user_id' ]).agg({\"call_month\": \"count\",'duration':\"sum\"}).reset_index()\n",
    "display(call_monthly.head())"
   ]
  },
  {
   "cell_type": "markdown",
   "metadata": {},
   "source": [
    "**In the \"megaline_internet\" dataset, creating a new column named \"session_month\", transferring megabytes to gigabytes and volume usage:**"
   ]
  },
  {
   "cell_type": "code",
   "execution_count": 34,
   "metadata": {},
   "outputs": [
    {
     "data": {
      "text/html": [
       "<div>\n",
       "<style scoped>\n",
       "    .dataframe tbody tr th:only-of-type {\n",
       "        vertical-align: middle;\n",
       "    }\n",
       "\n",
       "    .dataframe tbody tr th {\n",
       "        vertical-align: top;\n",
       "    }\n",
       "\n",
       "    .dataframe thead th {\n",
       "        text-align: right;\n",
       "    }\n",
       "</style>\n",
       "<table border=\"1\" class=\"dataframe\">\n",
       "  <thead>\n",
       "    <tr style=\"text-align: right;\">\n",
       "      <th></th>\n",
       "      <th>id</th>\n",
       "      <th>user_id</th>\n",
       "      <th>session_date</th>\n",
       "      <th>mb_used</th>\n",
       "      <th>session_month</th>\n",
       "    </tr>\n",
       "  </thead>\n",
       "  <tbody>\n",
       "    <tr>\n",
       "      <td>0</td>\n",
       "      <td>1000_13</td>\n",
       "      <td>1000</td>\n",
       "      <td>2018-12-29</td>\n",
       "      <td>89.86</td>\n",
       "      <td>December</td>\n",
       "    </tr>\n",
       "    <tr>\n",
       "      <td>1</td>\n",
       "      <td>1000_204</td>\n",
       "      <td>1000</td>\n",
       "      <td>2018-12-31</td>\n",
       "      <td>0.00</td>\n",
       "      <td>December</td>\n",
       "    </tr>\n",
       "    <tr>\n",
       "      <td>2</td>\n",
       "      <td>1000_379</td>\n",
       "      <td>1000</td>\n",
       "      <td>2018-12-28</td>\n",
       "      <td>660.40</td>\n",
       "      <td>December</td>\n",
       "    </tr>\n",
       "    <tr>\n",
       "      <td>3</td>\n",
       "      <td>1000_413</td>\n",
       "      <td>1000</td>\n",
       "      <td>2018-12-26</td>\n",
       "      <td>270.99</td>\n",
       "      <td>December</td>\n",
       "    </tr>\n",
       "    <tr>\n",
       "      <td>4</td>\n",
       "      <td>1000_442</td>\n",
       "      <td>1000</td>\n",
       "      <td>2018-12-27</td>\n",
       "      <td>880.22</td>\n",
       "      <td>December</td>\n",
       "    </tr>\n",
       "  </tbody>\n",
       "</table>\n",
       "</div>"
      ],
      "text/plain": [
       "         id  user_id session_date  mb_used session_month\n",
       "0   1000_13     1000   2018-12-29    89.86      December\n",
       "1  1000_204     1000   2018-12-31     0.00      December\n",
       "2  1000_379     1000   2018-12-28   660.40      December\n",
       "3  1000_413     1000   2018-12-26   270.99      December\n",
       "4  1000_442     1000   2018-12-27   880.22      December"
      ]
     },
     "metadata": {},
     "output_type": "display_data"
    },
    {
     "data": {
      "text/html": [
       "<div>\n",
       "<style scoped>\n",
       "    .dataframe tbody tr th:only-of-type {\n",
       "        vertical-align: middle;\n",
       "    }\n",
       "\n",
       "    .dataframe tbody tr th {\n",
       "        vertical-align: top;\n",
       "    }\n",
       "\n",
       "    .dataframe thead th {\n",
       "        text-align: right;\n",
       "    }\n",
       "</style>\n",
       "<table border=\"1\" class=\"dataframe\">\n",
       "  <thead>\n",
       "    <tr style=\"text-align: right;\">\n",
       "      <th></th>\n",
       "      <th>user_id</th>\n",
       "      <th>session_month</th>\n",
       "      <th>mb_used</th>\n",
       "    </tr>\n",
       "  </thead>\n",
       "  <tbody>\n",
       "    <tr>\n",
       "      <td>0</td>\n",
       "      <td>1000</td>\n",
       "      <td>5</td>\n",
       "      <td>2.0</td>\n",
       "    </tr>\n",
       "    <tr>\n",
       "      <td>1</td>\n",
       "      <td>1001</td>\n",
       "      <td>245</td>\n",
       "      <td>79.0</td>\n",
       "    </tr>\n",
       "    <tr>\n",
       "      <td>2</td>\n",
       "      <td>1002</td>\n",
       "      <td>124</td>\n",
       "      <td>40.0</td>\n",
       "    </tr>\n",
       "    <tr>\n",
       "      <td>3</td>\n",
       "      <td>1003</td>\n",
       "      <td>52</td>\n",
       "      <td>27.0</td>\n",
       "    </tr>\n",
       "    <tr>\n",
       "      <td>4</td>\n",
       "      <td>1004</td>\n",
       "      <td>460</td>\n",
       "      <td>153.0</td>\n",
       "    </tr>\n",
       "  </tbody>\n",
       "</table>\n",
       "</div>"
      ],
      "text/plain": [
       "   user_id  session_month  mb_used\n",
       "0     1000              5      2.0\n",
       "1     1001            245     79.0\n",
       "2     1002            124     40.0\n",
       "3     1003             52     27.0\n",
       "4     1004            460    153.0"
      ]
     },
     "metadata": {},
     "output_type": "display_data"
    }
   ],
   "source": [
    "megaline_internet['session_month'] = megaline_internet['session_date'].dt.month_name()\n",
    "display(megaline_internet.head())\n",
    "megaline_internet['mb_used']= megaline_internet['mb_used'] / 1024\n",
    "data_group = megaline_internet.groupby(['user_id']).agg({'session_month':'count', 'mb_used':\"sum\"}).reset_index()\n",
    "data_group['mb_used'] = data_group['mb_used'].apply(np.ceil)\n",
    "display(data_group.head())"
   ]
  },
  {
   "cell_type": "markdown",
   "metadata": {},
   "source": [
    "In the \"megaline_internet\" dataset \"mb_used\" column, I divided the \"mb_used\" column by 1024 for converting the result from megabytes to gigabytes and  according to the question, for \"mb_used\", each individual \"mb_used\" is rounded up: even if the \"mb_used\" lasted just one megabyte, it will be counted as gigabyte. "
   ]
  },
  {
   "cell_type": "markdown",
   "metadata": {},
   "source": [
    "**In the \"megaline_messages\" dataset, creating a new column named \"message_month\" & counting the number of text messages sent:**"
   ]
  },
  {
   "cell_type": "code",
   "execution_count": 35,
   "metadata": {},
   "outputs": [
    {
     "data": {
      "text/html": [
       "<div>\n",
       "<style scoped>\n",
       "    .dataframe tbody tr th:only-of-type {\n",
       "        vertical-align: middle;\n",
       "    }\n",
       "\n",
       "    .dataframe tbody tr th {\n",
       "        vertical-align: top;\n",
       "    }\n",
       "\n",
       "    .dataframe thead th {\n",
       "        text-align: right;\n",
       "    }\n",
       "</style>\n",
       "<table border=\"1\" class=\"dataframe\">\n",
       "  <thead>\n",
       "    <tr style=\"text-align: right;\">\n",
       "      <th></th>\n",
       "      <th>id</th>\n",
       "      <th>user_id</th>\n",
       "      <th>message_date</th>\n",
       "      <th>message_month</th>\n",
       "    </tr>\n",
       "  </thead>\n",
       "  <tbody>\n",
       "    <tr>\n",
       "      <td>0</td>\n",
       "      <td>1000_125</td>\n",
       "      <td>1000</td>\n",
       "      <td>2018-12-27</td>\n",
       "      <td>December</td>\n",
       "    </tr>\n",
       "    <tr>\n",
       "      <td>1</td>\n",
       "      <td>1000_160</td>\n",
       "      <td>1000</td>\n",
       "      <td>2018-12-31</td>\n",
       "      <td>December</td>\n",
       "    </tr>\n",
       "    <tr>\n",
       "      <td>2</td>\n",
       "      <td>1000_223</td>\n",
       "      <td>1000</td>\n",
       "      <td>2018-12-31</td>\n",
       "      <td>December</td>\n",
       "    </tr>\n",
       "    <tr>\n",
       "      <td>3</td>\n",
       "      <td>1000_251</td>\n",
       "      <td>1000</td>\n",
       "      <td>2018-12-27</td>\n",
       "      <td>December</td>\n",
       "    </tr>\n",
       "    <tr>\n",
       "      <td>4</td>\n",
       "      <td>1000_255</td>\n",
       "      <td>1000</td>\n",
       "      <td>2018-12-26</td>\n",
       "      <td>December</td>\n",
       "    </tr>\n",
       "  </tbody>\n",
       "</table>\n",
       "</div>"
      ],
      "text/plain": [
       "         id  user_id message_date message_month\n",
       "0  1000_125     1000   2018-12-27      December\n",
       "1  1000_160     1000   2018-12-31      December\n",
       "2  1000_223     1000   2018-12-31      December\n",
       "3  1000_251     1000   2018-12-27      December\n",
       "4  1000_255     1000   2018-12-26      December"
      ]
     },
     "metadata": {},
     "output_type": "display_data"
    },
    {
     "data": {
      "text/html": [
       "<div>\n",
       "<style scoped>\n",
       "    .dataframe tbody tr th:only-of-type {\n",
       "        vertical-align: middle;\n",
       "    }\n",
       "\n",
       "    .dataframe tbody tr th {\n",
       "        vertical-align: top;\n",
       "    }\n",
       "\n",
       "    .dataframe thead th {\n",
       "        text-align: right;\n",
       "    }\n",
       "</style>\n",
       "<table border=\"1\" class=\"dataframe\">\n",
       "  <thead>\n",
       "    <tr style=\"text-align: right;\">\n",
       "      <th></th>\n",
       "      <th>user_id</th>\n",
       "      <th>message_month</th>\n",
       "    </tr>\n",
       "  </thead>\n",
       "  <tbody>\n",
       "    <tr>\n",
       "      <td>0</td>\n",
       "      <td>1000</td>\n",
       "      <td>11</td>\n",
       "    </tr>\n",
       "    <tr>\n",
       "      <td>1</td>\n",
       "      <td>1001</td>\n",
       "      <td>207</td>\n",
       "    </tr>\n",
       "    <tr>\n",
       "      <td>2</td>\n",
       "      <td>1002</td>\n",
       "      <td>88</td>\n",
       "    </tr>\n",
       "    <tr>\n",
       "      <td>3</td>\n",
       "      <td>1003</td>\n",
       "      <td>50</td>\n",
       "    </tr>\n",
       "    <tr>\n",
       "      <td>4</td>\n",
       "      <td>1004</td>\n",
       "      <td>177</td>\n",
       "    </tr>\n",
       "  </tbody>\n",
       "</table>\n",
       "</div>"
      ],
      "text/plain": [
       "   user_id  message_month\n",
       "0     1000             11\n",
       "1     1001            207\n",
       "2     1002             88\n",
       "3     1003             50\n",
       "4     1004            177"
      ]
     },
     "metadata": {},
     "output_type": "display_data"
    }
   ],
   "source": [
    "megaline_messages['message_month'] = megaline_messages['message_date'].dt.month_name()\n",
    "display(megaline_messages.head())\n",
    "message_group =megaline_messages.groupby(['user_id']).agg({\"message_month\": \"count\"}).reset_index()\n",
    "display(message_group.head())"
   ]
  },
  {
   "cell_type": "markdown",
   "metadata": {},
   "source": [
    "**Merging between \"call_monthly\" and \"data_group\":**"
   ]
  },
  {
   "cell_type": "code",
   "execution_count": 36,
   "metadata": {},
   "outputs": [
    {
     "data": {
      "text/html": [
       "<div>\n",
       "<style scoped>\n",
       "    .dataframe tbody tr th:only-of-type {\n",
       "        vertical-align: middle;\n",
       "    }\n",
       "\n",
       "    .dataframe tbody tr th {\n",
       "        vertical-align: top;\n",
       "    }\n",
       "\n",
       "    .dataframe thead th {\n",
       "        text-align: right;\n",
       "    }\n",
       "</style>\n",
       "<table border=\"1\" class=\"dataframe\">\n",
       "  <thead>\n",
       "    <tr style=\"text-align: right;\">\n",
       "      <th></th>\n",
       "      <th>user_id</th>\n",
       "      <th>call_month</th>\n",
       "      <th>duration</th>\n",
       "      <th>session_month</th>\n",
       "      <th>mb_used</th>\n",
       "    </tr>\n",
       "  </thead>\n",
       "  <tbody>\n",
       "    <tr>\n",
       "      <td>0</td>\n",
       "      <td>1000</td>\n",
       "      <td>16.0</td>\n",
       "      <td>124.0</td>\n",
       "      <td>5.0</td>\n",
       "      <td>2.0</td>\n",
       "    </tr>\n",
       "    <tr>\n",
       "      <td>1</td>\n",
       "      <td>1001</td>\n",
       "      <td>261.0</td>\n",
       "      <td>1728.0</td>\n",
       "      <td>245.0</td>\n",
       "      <td>79.0</td>\n",
       "    </tr>\n",
       "    <tr>\n",
       "      <td>2</td>\n",
       "      <td>1002</td>\n",
       "      <td>113.0</td>\n",
       "      <td>829.0</td>\n",
       "      <td>124.0</td>\n",
       "      <td>40.0</td>\n",
       "    </tr>\n",
       "    <tr>\n",
       "      <td>3</td>\n",
       "      <td>1003</td>\n",
       "      <td>149.0</td>\n",
       "      <td>1104.0</td>\n",
       "      <td>52.0</td>\n",
       "      <td>27.0</td>\n",
       "    </tr>\n",
       "    <tr>\n",
       "      <td>4</td>\n",
       "      <td>1004</td>\n",
       "      <td>370.0</td>\n",
       "      <td>2772.0</td>\n",
       "      <td>460.0</td>\n",
       "      <td>153.0</td>\n",
       "    </tr>\n",
       "  </tbody>\n",
       "</table>\n",
       "</div>"
      ],
      "text/plain": [
       "   user_id  call_month  duration  session_month  mb_used\n",
       "0     1000        16.0     124.0            5.0      2.0\n",
       "1     1001       261.0    1728.0          245.0     79.0\n",
       "2     1002       113.0     829.0          124.0     40.0\n",
       "3     1003       149.0    1104.0           52.0     27.0\n",
       "4     1004       370.0    2772.0          460.0    153.0"
      ]
     },
     "metadata": {},
     "output_type": "display_data"
    }
   ],
   "source": [
    "merge_one = pd.merge(call_monthly ,data_group ,on=['user_id'],how ='outer')\n",
    "display(merge_one.head())"
   ]
  },
  {
   "cell_type": "markdown",
   "metadata": {},
   "source": [
    "**Extracting plans for each user from megaline_users table:**"
   ]
  },
  {
   "cell_type": "code",
   "execution_count": 37,
   "metadata": {},
   "outputs": [],
   "source": [
    "plan_group = megaline_users[[\"user_id\", \"plan\",\"city\"]]"
   ]
  },
  {
   "cell_type": "markdown",
   "metadata": {},
   "source": [
    "**Merging between \"message_group\" & \"plan_group\":**"
   ]
  },
  {
   "cell_type": "code",
   "execution_count": 38,
   "metadata": {},
   "outputs": [
    {
     "data": {
      "text/html": [
       "<div>\n",
       "<style scoped>\n",
       "    .dataframe tbody tr th:only-of-type {\n",
       "        vertical-align: middle;\n",
       "    }\n",
       "\n",
       "    .dataframe tbody tr th {\n",
       "        vertical-align: top;\n",
       "    }\n",
       "\n",
       "    .dataframe thead th {\n",
       "        text-align: right;\n",
       "    }\n",
       "</style>\n",
       "<table border=\"1\" class=\"dataframe\">\n",
       "  <thead>\n",
       "    <tr style=\"text-align: right;\">\n",
       "      <th></th>\n",
       "      <th>user_id</th>\n",
       "      <th>message_month</th>\n",
       "      <th>plan</th>\n",
       "      <th>city</th>\n",
       "    </tr>\n",
       "  </thead>\n",
       "  <tbody>\n",
       "    <tr>\n",
       "      <td>0</td>\n",
       "      <td>1000</td>\n",
       "      <td>11.0</td>\n",
       "      <td>ultimate</td>\n",
       "      <td>Atlanta-Sandy Springs-Roswell, GA MSA</td>\n",
       "    </tr>\n",
       "    <tr>\n",
       "      <td>1</td>\n",
       "      <td>1001</td>\n",
       "      <td>207.0</td>\n",
       "      <td>surf</td>\n",
       "      <td>Seattle-Tacoma-Bellevue, WA MSA</td>\n",
       "    </tr>\n",
       "    <tr>\n",
       "      <td>2</td>\n",
       "      <td>1002</td>\n",
       "      <td>88.0</td>\n",
       "      <td>surf</td>\n",
       "      <td>Las Vegas-Henderson-Paradise, NV MSA</td>\n",
       "    </tr>\n",
       "    <tr>\n",
       "      <td>3</td>\n",
       "      <td>1003</td>\n",
       "      <td>50.0</td>\n",
       "      <td>surf</td>\n",
       "      <td>Tulsa, OK MSA</td>\n",
       "    </tr>\n",
       "    <tr>\n",
       "      <td>4</td>\n",
       "      <td>1004</td>\n",
       "      <td>177.0</td>\n",
       "      <td>surf</td>\n",
       "      <td>Seattle-Tacoma-Bellevue, WA MSA</td>\n",
       "    </tr>\n",
       "  </tbody>\n",
       "</table>\n",
       "</div>"
      ],
      "text/plain": [
       "   user_id  message_month      plan                                   city\n",
       "0     1000           11.0  ultimate  Atlanta-Sandy Springs-Roswell, GA MSA\n",
       "1     1001          207.0      surf        Seattle-Tacoma-Bellevue, WA MSA\n",
       "2     1002           88.0      surf   Las Vegas-Henderson-Paradise, NV MSA\n",
       "3     1003           50.0      surf                          Tulsa, OK MSA\n",
       "4     1004          177.0      surf        Seattle-Tacoma-Bellevue, WA MSA"
      ]
     },
     "metadata": {},
     "output_type": "display_data"
    }
   ],
   "source": [
    "merge_two= pd.merge(message_group,plan_group,on=['user_id'],how ='outer')\n",
    "display(merge_two.head())"
   ]
  },
  {
   "cell_type": "markdown",
   "metadata": {},
   "source": [
    "**Final merging & combing all of the tables**"
   ]
  },
  {
   "cell_type": "code",
   "execution_count": 39,
   "metadata": {},
   "outputs": [
    {
     "data": {
      "text/html": [
       "<div>\n",
       "<style scoped>\n",
       "    .dataframe tbody tr th:only-of-type {\n",
       "        vertical-align: middle;\n",
       "    }\n",
       "\n",
       "    .dataframe tbody tr th {\n",
       "        vertical-align: top;\n",
       "    }\n",
       "\n",
       "    .dataframe thead th {\n",
       "        text-align: right;\n",
       "    }\n",
       "</style>\n",
       "<table border=\"1\" class=\"dataframe\">\n",
       "  <thead>\n",
       "    <tr style=\"text-align: right;\">\n",
       "      <th></th>\n",
       "      <th>user_id</th>\n",
       "      <th>call_month</th>\n",
       "      <th>duration</th>\n",
       "      <th>session_month</th>\n",
       "      <th>mb_used</th>\n",
       "      <th>message_month</th>\n",
       "      <th>plan</th>\n",
       "      <th>city</th>\n",
       "    </tr>\n",
       "  </thead>\n",
       "  <tbody>\n",
       "    <tr>\n",
       "      <td>0</td>\n",
       "      <td>1000</td>\n",
       "      <td>16.0</td>\n",
       "      <td>124.0</td>\n",
       "      <td>5.0</td>\n",
       "      <td>2.0</td>\n",
       "      <td>11.0</td>\n",
       "      <td>ultimate</td>\n",
       "      <td>Atlanta-Sandy Springs-Roswell, GA MSA</td>\n",
       "    </tr>\n",
       "    <tr>\n",
       "      <td>1</td>\n",
       "      <td>1001</td>\n",
       "      <td>261.0</td>\n",
       "      <td>1728.0</td>\n",
       "      <td>245.0</td>\n",
       "      <td>79.0</td>\n",
       "      <td>207.0</td>\n",
       "      <td>surf</td>\n",
       "      <td>Seattle-Tacoma-Bellevue, WA MSA</td>\n",
       "    </tr>\n",
       "    <tr>\n",
       "      <td>2</td>\n",
       "      <td>1002</td>\n",
       "      <td>113.0</td>\n",
       "      <td>829.0</td>\n",
       "      <td>124.0</td>\n",
       "      <td>40.0</td>\n",
       "      <td>88.0</td>\n",
       "      <td>surf</td>\n",
       "      <td>Las Vegas-Henderson-Paradise, NV MSA</td>\n",
       "    </tr>\n",
       "    <tr>\n",
       "      <td>3</td>\n",
       "      <td>1003</td>\n",
       "      <td>149.0</td>\n",
       "      <td>1104.0</td>\n",
       "      <td>52.0</td>\n",
       "      <td>27.0</td>\n",
       "      <td>50.0</td>\n",
       "      <td>surf</td>\n",
       "      <td>Tulsa, OK MSA</td>\n",
       "    </tr>\n",
       "    <tr>\n",
       "      <td>4</td>\n",
       "      <td>1004</td>\n",
       "      <td>370.0</td>\n",
       "      <td>2772.0</td>\n",
       "      <td>460.0</td>\n",
       "      <td>153.0</td>\n",
       "      <td>177.0</td>\n",
       "      <td>surf</td>\n",
       "      <td>Seattle-Tacoma-Bellevue, WA MSA</td>\n",
       "    </tr>\n",
       "    <tr>\n",
       "      <td>5</td>\n",
       "      <td>1005</td>\n",
       "      <td>59.0</td>\n",
       "      <td>496.0</td>\n",
       "      <td>60.0</td>\n",
       "      <td>17.0</td>\n",
       "      <td>11.0</td>\n",
       "      <td>surf</td>\n",
       "      <td>Dallas-Fort Worth-Arlington, TX MSA</td>\n",
       "    </tr>\n",
       "    <tr>\n",
       "      <td>6</td>\n",
       "      <td>1006</td>\n",
       "      <td>11.0</td>\n",
       "      <td>69.0</td>\n",
       "      <td>70.0</td>\n",
       "      <td>34.0</td>\n",
       "      <td>154.0</td>\n",
       "      <td>ultimate</td>\n",
       "      <td>San Francisco-Oakland-Berkeley, CA MSA</td>\n",
       "    </tr>\n",
       "    <tr>\n",
       "      <td>7</td>\n",
       "      <td>1007</td>\n",
       "      <td>380.0</td>\n",
       "      <td>2641.0</td>\n",
       "      <td>273.0</td>\n",
       "      <td>141.0</td>\n",
       "      <td>255.0</td>\n",
       "      <td>surf</td>\n",
       "      <td>Grand Rapids-Kentwood, MI MSA</td>\n",
       "    </tr>\n",
       "    <tr>\n",
       "      <td>8</td>\n",
       "      <td>1008</td>\n",
       "      <td>219.0</td>\n",
       "      <td>1556.0</td>\n",
       "      <td>176.0</td>\n",
       "      <td>55.0</td>\n",
       "      <td>84.0</td>\n",
       "      <td>ultimate</td>\n",
       "      <td>Orlando-Kissimmee-Sanford, FL MSA</td>\n",
       "    </tr>\n",
       "    <tr>\n",
       "      <td>9</td>\n",
       "      <td>1009</td>\n",
       "      <td>856.0</td>\n",
       "      <td>5954.0</td>\n",
       "      <td>386.0</td>\n",
       "      <td>183.0</td>\n",
       "      <td>NaN</td>\n",
       "      <td>surf</td>\n",
       "      <td>San Jose-Sunnyvale-Santa Clara, CA MSA</td>\n",
       "    </tr>\n",
       "  </tbody>\n",
       "</table>\n",
       "</div>"
      ],
      "text/plain": [
       "   user_id  call_month  duration  session_month  mb_used  message_month  \\\n",
       "0     1000        16.0     124.0            5.0      2.0           11.0   \n",
       "1     1001       261.0    1728.0          245.0     79.0          207.0   \n",
       "2     1002       113.0     829.0          124.0     40.0           88.0   \n",
       "3     1003       149.0    1104.0           52.0     27.0           50.0   \n",
       "4     1004       370.0    2772.0          460.0    153.0          177.0   \n",
       "5     1005        59.0     496.0           60.0     17.0           11.0   \n",
       "6     1006        11.0      69.0           70.0     34.0          154.0   \n",
       "7     1007       380.0    2641.0          273.0    141.0          255.0   \n",
       "8     1008       219.0    1556.0          176.0     55.0           84.0   \n",
       "9     1009       856.0    5954.0          386.0    183.0            NaN   \n",
       "\n",
       "       plan                                    city  \n",
       "0  ultimate   Atlanta-Sandy Springs-Roswell, GA MSA  \n",
       "1      surf         Seattle-Tacoma-Bellevue, WA MSA  \n",
       "2      surf    Las Vegas-Henderson-Paradise, NV MSA  \n",
       "3      surf                           Tulsa, OK MSA  \n",
       "4      surf         Seattle-Tacoma-Bellevue, WA MSA  \n",
       "5      surf     Dallas-Fort Worth-Arlington, TX MSA  \n",
       "6  ultimate  San Francisco-Oakland-Berkeley, CA MSA  \n",
       "7      surf           Grand Rapids-Kentwood, MI MSA  \n",
       "8  ultimate       Orlando-Kissimmee-Sanford, FL MSA  \n",
       "9      surf  San Jose-Sunnyvale-Santa Clara, CA MSA  "
      ]
     },
     "metadata": {},
     "output_type": "display_data"
    }
   ],
   "source": [
    "final_merge = pd.merge(merge_one ,merge_two,on=['user_id'],how ='outer')\n",
    "display(final_merge.head(10))"
   ]
  },
  {
   "cell_type": "markdown",
   "metadata": {},
   "source": [
    "**Replacing nan by 0, combining columns & hide index:**"
   ]
  },
  {
   "cell_type": "code",
   "execution_count": 40,
   "metadata": {},
   "outputs": [
    {
     "data": {
      "text/html": [
       "<style  type=\"text/css\" >\n",
       "</style><table id=\"T_cd53e940_0306_11ed_8ab3_402cf41c9607\" ><thead>    <tr>        <th class=\"col_heading level0 col0\" >user_id</th>        <th class=\"col_heading level0 col1\" >Nb_of_calls</th>        <th class=\"col_heading level0 col2\" >Nb_of_min</th>        <th class=\"col_heading level0 col3\" >Nb_of_data_sessions</th>        <th class=\"col_heading level0 col4\" >Data_used_in_gb</th>        <th class=\"col_heading level0 col5\" >Nb_of_messages_sent</th>        <th class=\"col_heading level0 col6\" >plan</th>        <th class=\"col_heading level0 col7\" >city</th>    </tr></thead><tbody>\n",
       "                <tr>\n",
       "                                <td id=\"T_cd53e940_0306_11ed_8ab3_402cf41c9607row0_col0\" class=\"data row0 col0\" >1000</td>\n",
       "                        <td id=\"T_cd53e940_0306_11ed_8ab3_402cf41c9607row0_col1\" class=\"data row0 col1\" >16</td>\n",
       "                        <td id=\"T_cd53e940_0306_11ed_8ab3_402cf41c9607row0_col2\" class=\"data row0 col2\" >124</td>\n",
       "                        <td id=\"T_cd53e940_0306_11ed_8ab3_402cf41c9607row0_col3\" class=\"data row0 col3\" >5</td>\n",
       "                        <td id=\"T_cd53e940_0306_11ed_8ab3_402cf41c9607row0_col4\" class=\"data row0 col4\" >2</td>\n",
       "                        <td id=\"T_cd53e940_0306_11ed_8ab3_402cf41c9607row0_col5\" class=\"data row0 col5\" >11</td>\n",
       "                        <td id=\"T_cd53e940_0306_11ed_8ab3_402cf41c9607row0_col6\" class=\"data row0 col6\" >ultimate</td>\n",
       "                        <td id=\"T_cd53e940_0306_11ed_8ab3_402cf41c9607row0_col7\" class=\"data row0 col7\" >Atlanta-Sandy Springs-Roswell, GA MSA</td>\n",
       "            </tr>\n",
       "            <tr>\n",
       "                                <td id=\"T_cd53e940_0306_11ed_8ab3_402cf41c9607row1_col0\" class=\"data row1 col0\" >1001</td>\n",
       "                        <td id=\"T_cd53e940_0306_11ed_8ab3_402cf41c9607row1_col1\" class=\"data row1 col1\" >261</td>\n",
       "                        <td id=\"T_cd53e940_0306_11ed_8ab3_402cf41c9607row1_col2\" class=\"data row1 col2\" >1728</td>\n",
       "                        <td id=\"T_cd53e940_0306_11ed_8ab3_402cf41c9607row1_col3\" class=\"data row1 col3\" >245</td>\n",
       "                        <td id=\"T_cd53e940_0306_11ed_8ab3_402cf41c9607row1_col4\" class=\"data row1 col4\" >79</td>\n",
       "                        <td id=\"T_cd53e940_0306_11ed_8ab3_402cf41c9607row1_col5\" class=\"data row1 col5\" >207</td>\n",
       "                        <td id=\"T_cd53e940_0306_11ed_8ab3_402cf41c9607row1_col6\" class=\"data row1 col6\" >surf</td>\n",
       "                        <td id=\"T_cd53e940_0306_11ed_8ab3_402cf41c9607row1_col7\" class=\"data row1 col7\" >Seattle-Tacoma-Bellevue, WA MSA</td>\n",
       "            </tr>\n",
       "            <tr>\n",
       "                                <td id=\"T_cd53e940_0306_11ed_8ab3_402cf41c9607row2_col0\" class=\"data row2 col0\" >1002</td>\n",
       "                        <td id=\"T_cd53e940_0306_11ed_8ab3_402cf41c9607row2_col1\" class=\"data row2 col1\" >113</td>\n",
       "                        <td id=\"T_cd53e940_0306_11ed_8ab3_402cf41c9607row2_col2\" class=\"data row2 col2\" >829</td>\n",
       "                        <td id=\"T_cd53e940_0306_11ed_8ab3_402cf41c9607row2_col3\" class=\"data row2 col3\" >124</td>\n",
       "                        <td id=\"T_cd53e940_0306_11ed_8ab3_402cf41c9607row2_col4\" class=\"data row2 col4\" >40</td>\n",
       "                        <td id=\"T_cd53e940_0306_11ed_8ab3_402cf41c9607row2_col5\" class=\"data row2 col5\" >88</td>\n",
       "                        <td id=\"T_cd53e940_0306_11ed_8ab3_402cf41c9607row2_col6\" class=\"data row2 col6\" >surf</td>\n",
       "                        <td id=\"T_cd53e940_0306_11ed_8ab3_402cf41c9607row2_col7\" class=\"data row2 col7\" >Las Vegas-Henderson-Paradise, NV MSA</td>\n",
       "            </tr>\n",
       "            <tr>\n",
       "                                <td id=\"T_cd53e940_0306_11ed_8ab3_402cf41c9607row3_col0\" class=\"data row3 col0\" >1003</td>\n",
       "                        <td id=\"T_cd53e940_0306_11ed_8ab3_402cf41c9607row3_col1\" class=\"data row3 col1\" >149</td>\n",
       "                        <td id=\"T_cd53e940_0306_11ed_8ab3_402cf41c9607row3_col2\" class=\"data row3 col2\" >1104</td>\n",
       "                        <td id=\"T_cd53e940_0306_11ed_8ab3_402cf41c9607row3_col3\" class=\"data row3 col3\" >52</td>\n",
       "                        <td id=\"T_cd53e940_0306_11ed_8ab3_402cf41c9607row3_col4\" class=\"data row3 col4\" >27</td>\n",
       "                        <td id=\"T_cd53e940_0306_11ed_8ab3_402cf41c9607row3_col5\" class=\"data row3 col5\" >50</td>\n",
       "                        <td id=\"T_cd53e940_0306_11ed_8ab3_402cf41c9607row3_col6\" class=\"data row3 col6\" >surf</td>\n",
       "                        <td id=\"T_cd53e940_0306_11ed_8ab3_402cf41c9607row3_col7\" class=\"data row3 col7\" >Tulsa, OK MSA</td>\n",
       "            </tr>\n",
       "            <tr>\n",
       "                                <td id=\"T_cd53e940_0306_11ed_8ab3_402cf41c9607row4_col0\" class=\"data row4 col0\" >1004</td>\n",
       "                        <td id=\"T_cd53e940_0306_11ed_8ab3_402cf41c9607row4_col1\" class=\"data row4 col1\" >370</td>\n",
       "                        <td id=\"T_cd53e940_0306_11ed_8ab3_402cf41c9607row4_col2\" class=\"data row4 col2\" >2772</td>\n",
       "                        <td id=\"T_cd53e940_0306_11ed_8ab3_402cf41c9607row4_col3\" class=\"data row4 col3\" >460</td>\n",
       "                        <td id=\"T_cd53e940_0306_11ed_8ab3_402cf41c9607row4_col4\" class=\"data row4 col4\" >153</td>\n",
       "                        <td id=\"T_cd53e940_0306_11ed_8ab3_402cf41c9607row4_col5\" class=\"data row4 col5\" >177</td>\n",
       "                        <td id=\"T_cd53e940_0306_11ed_8ab3_402cf41c9607row4_col6\" class=\"data row4 col6\" >surf</td>\n",
       "                        <td id=\"T_cd53e940_0306_11ed_8ab3_402cf41c9607row4_col7\" class=\"data row4 col7\" >Seattle-Tacoma-Bellevue, WA MSA</td>\n",
       "            </tr>\n",
       "            <tr>\n",
       "                                <td id=\"T_cd53e940_0306_11ed_8ab3_402cf41c9607row5_col0\" class=\"data row5 col0\" >1005</td>\n",
       "                        <td id=\"T_cd53e940_0306_11ed_8ab3_402cf41c9607row5_col1\" class=\"data row5 col1\" >59</td>\n",
       "                        <td id=\"T_cd53e940_0306_11ed_8ab3_402cf41c9607row5_col2\" class=\"data row5 col2\" >496</td>\n",
       "                        <td id=\"T_cd53e940_0306_11ed_8ab3_402cf41c9607row5_col3\" class=\"data row5 col3\" >60</td>\n",
       "                        <td id=\"T_cd53e940_0306_11ed_8ab3_402cf41c9607row5_col4\" class=\"data row5 col4\" >17</td>\n",
       "                        <td id=\"T_cd53e940_0306_11ed_8ab3_402cf41c9607row5_col5\" class=\"data row5 col5\" >11</td>\n",
       "                        <td id=\"T_cd53e940_0306_11ed_8ab3_402cf41c9607row5_col6\" class=\"data row5 col6\" >surf</td>\n",
       "                        <td id=\"T_cd53e940_0306_11ed_8ab3_402cf41c9607row5_col7\" class=\"data row5 col7\" >Dallas-Fort Worth-Arlington, TX MSA</td>\n",
       "            </tr>\n",
       "            <tr>\n",
       "                                <td id=\"T_cd53e940_0306_11ed_8ab3_402cf41c9607row6_col0\" class=\"data row6 col0\" >1006</td>\n",
       "                        <td id=\"T_cd53e940_0306_11ed_8ab3_402cf41c9607row6_col1\" class=\"data row6 col1\" >11</td>\n",
       "                        <td id=\"T_cd53e940_0306_11ed_8ab3_402cf41c9607row6_col2\" class=\"data row6 col2\" >69</td>\n",
       "                        <td id=\"T_cd53e940_0306_11ed_8ab3_402cf41c9607row6_col3\" class=\"data row6 col3\" >70</td>\n",
       "                        <td id=\"T_cd53e940_0306_11ed_8ab3_402cf41c9607row6_col4\" class=\"data row6 col4\" >34</td>\n",
       "                        <td id=\"T_cd53e940_0306_11ed_8ab3_402cf41c9607row6_col5\" class=\"data row6 col5\" >154</td>\n",
       "                        <td id=\"T_cd53e940_0306_11ed_8ab3_402cf41c9607row6_col6\" class=\"data row6 col6\" >ultimate</td>\n",
       "                        <td id=\"T_cd53e940_0306_11ed_8ab3_402cf41c9607row6_col7\" class=\"data row6 col7\" >San Francisco-Oakland-Berkeley, CA MSA</td>\n",
       "            </tr>\n",
       "            <tr>\n",
       "                                <td id=\"T_cd53e940_0306_11ed_8ab3_402cf41c9607row7_col0\" class=\"data row7 col0\" >1007</td>\n",
       "                        <td id=\"T_cd53e940_0306_11ed_8ab3_402cf41c9607row7_col1\" class=\"data row7 col1\" >380</td>\n",
       "                        <td id=\"T_cd53e940_0306_11ed_8ab3_402cf41c9607row7_col2\" class=\"data row7 col2\" >2641</td>\n",
       "                        <td id=\"T_cd53e940_0306_11ed_8ab3_402cf41c9607row7_col3\" class=\"data row7 col3\" >273</td>\n",
       "                        <td id=\"T_cd53e940_0306_11ed_8ab3_402cf41c9607row7_col4\" class=\"data row7 col4\" >141</td>\n",
       "                        <td id=\"T_cd53e940_0306_11ed_8ab3_402cf41c9607row7_col5\" class=\"data row7 col5\" >255</td>\n",
       "                        <td id=\"T_cd53e940_0306_11ed_8ab3_402cf41c9607row7_col6\" class=\"data row7 col6\" >surf</td>\n",
       "                        <td id=\"T_cd53e940_0306_11ed_8ab3_402cf41c9607row7_col7\" class=\"data row7 col7\" >Grand Rapids-Kentwood, MI MSA</td>\n",
       "            </tr>\n",
       "            <tr>\n",
       "                                <td id=\"T_cd53e940_0306_11ed_8ab3_402cf41c9607row8_col0\" class=\"data row8 col0\" >1008</td>\n",
       "                        <td id=\"T_cd53e940_0306_11ed_8ab3_402cf41c9607row8_col1\" class=\"data row8 col1\" >219</td>\n",
       "                        <td id=\"T_cd53e940_0306_11ed_8ab3_402cf41c9607row8_col2\" class=\"data row8 col2\" >1556</td>\n",
       "                        <td id=\"T_cd53e940_0306_11ed_8ab3_402cf41c9607row8_col3\" class=\"data row8 col3\" >176</td>\n",
       "                        <td id=\"T_cd53e940_0306_11ed_8ab3_402cf41c9607row8_col4\" class=\"data row8 col4\" >55</td>\n",
       "                        <td id=\"T_cd53e940_0306_11ed_8ab3_402cf41c9607row8_col5\" class=\"data row8 col5\" >84</td>\n",
       "                        <td id=\"T_cd53e940_0306_11ed_8ab3_402cf41c9607row8_col6\" class=\"data row8 col6\" >ultimate</td>\n",
       "                        <td id=\"T_cd53e940_0306_11ed_8ab3_402cf41c9607row8_col7\" class=\"data row8 col7\" >Orlando-Kissimmee-Sanford, FL MSA</td>\n",
       "            </tr>\n",
       "            <tr>\n",
       "                                <td id=\"T_cd53e940_0306_11ed_8ab3_402cf41c9607row9_col0\" class=\"data row9 col0\" >1009</td>\n",
       "                        <td id=\"T_cd53e940_0306_11ed_8ab3_402cf41c9607row9_col1\" class=\"data row9 col1\" >856</td>\n",
       "                        <td id=\"T_cd53e940_0306_11ed_8ab3_402cf41c9607row9_col2\" class=\"data row9 col2\" >5954</td>\n",
       "                        <td id=\"T_cd53e940_0306_11ed_8ab3_402cf41c9607row9_col3\" class=\"data row9 col3\" >386</td>\n",
       "                        <td id=\"T_cd53e940_0306_11ed_8ab3_402cf41c9607row9_col4\" class=\"data row9 col4\" >183</td>\n",
       "                        <td id=\"T_cd53e940_0306_11ed_8ab3_402cf41c9607row9_col5\" class=\"data row9 col5\" >0</td>\n",
       "                        <td id=\"T_cd53e940_0306_11ed_8ab3_402cf41c9607row9_col6\" class=\"data row9 col6\" >surf</td>\n",
       "                        <td id=\"T_cd53e940_0306_11ed_8ab3_402cf41c9607row9_col7\" class=\"data row9 col7\" >San Jose-Sunnyvale-Santa Clara, CA MSA</td>\n",
       "            </tr>\n",
       "    </tbody></table>"
      ],
      "text/plain": [
       "<pandas.io.formats.style.Styler at 0x2690d02d088>"
      ]
     },
     "execution_count": 40,
     "metadata": {},
     "output_type": "execute_result"
    }
   ],
   "source": [
    "final_merge=final_merge.fillna(0)\n",
    "final_merge = final_merge.rename(columns={\"call_month\": \"Nb_of_calls\", \"duration\": \"Nb_of_min\",\"mb_used\":\"Data_used_in_gb\",'session_month':\"Nb_of_data_sessions\",'message_month':'Nb_of_messages_sent' })\n",
    "final_merge.head(10).style.hide_index()"
   ]
  },
  {
   "cell_type": "markdown",
   "metadata": {},
   "source": [
    "**Calculation of monthly revenue generated by each user:**"
   ]
  },
  {
   "cell_type": "code",
   "execution_count": 41,
   "metadata": {},
   "outputs": [],
   "source": [
    "def calls_surplus(plan):\n",
    "    if plan == \"ultimate\":\n",
    "        return 3000\n",
    "    elif plan == \"surf\":\n",
    "        return 500\n",
    "\n",
    "final_merge[\"surplus_calls\"] = final_merge[\"plan\"].map(calls_surplus) - final_merge[\"Nb_of_min\"]\n",
    "\n",
    "def messages_surplus(plan):\n",
    "    if plan == \"ultimate\":\n",
    "        return 1000\n",
    "    elif plan == \"surf\":\n",
    "        return 50\n",
    "final_merge[\"messages_surplus\"] = final_merge[\"plan\"].map(messages_surplus) - final_merge['Nb_of_messages_sent']\n",
    "\n",
    "def data_surplus(plan):\n",
    "    if plan == \"ultimate\":\n",
    "        return 30\n",
    "    elif plan == \"surf\":\n",
    "        return 15\n",
    "final_merge[\"data_surplus\"] = final_merge[\"plan\"].map(data_surplus) - final_merge['Data_used_in_gb']"
   ]
  },
  {
   "cell_type": "markdown",
   "metadata": {},
   "source": [
    "**Multipling the result by the calling plan value:**"
   ]
  },
  {
   "cell_type": "code",
   "execution_count": 42,
   "metadata": {},
   "outputs": [],
   "source": [
    "def surplus_charge_calls(plan):\n",
    "    if plan == \"ultimate\":\n",
    "        return .01\n",
    "    if plan == \"surf\":\n",
    "        return .03\n",
    "    \n",
    "final_merge[\"surplus_charge_calls\"] = final_merge[\"plan\"].map(surplus_charge_calls) * final_merge['surplus_calls']\n",
    "\n",
    "def surplus_charge_messages(plan):\n",
    "    if plan == \"ultimate\":\n",
    "        return .01\n",
    "    if plan == \"surf\":\n",
    "        return .03\n",
    "    \n",
    "final_merge[\"surplus_charge_messages\"] = final_merge[\"plan\"].map(surplus_charge_messages) * final_merge['messages_surplus']\n",
    "\n",
    "def surplus_charge_data(plan):\n",
    "    if plan == \"ultimate\":\n",
    "        return 7\n",
    "    if plan == \"surf\":\n",
    "        return 10\n",
    "final_merge[\"surplus_charge_data\"] = final_merge[\"plan\"].map(surplus_charge_data) * final_merge['data_surplus']"
   ]
  },
  {
   "cell_type": "markdown",
   "metadata": {},
   "source": [
    "**Calculation of the total revenue:**"
   ]
  },
  {
   "cell_type": "code",
   "execution_count": 43,
   "metadata": {},
   "outputs": [],
   "source": [
    "def revenue(plan):\n",
    "    if plan == \"ultimate\":\n",
    "        return 70\n",
    "    elif plan == \"surf\":\n",
    "        return 20"
   ]
  },
  {
   "cell_type": "markdown",
   "metadata": {},
   "source": [
    "**Converting the negative values into positive for calculation purpose:**"
   ]
  },
  {
   "cell_type": "code",
   "execution_count": 44,
   "metadata": {},
   "outputs": [],
   "source": [
    "final_merge['surplus_charge_data'] = final_merge['surplus_charge_data'].apply(lambda x: (x * -1) if x < 0 else x)  \n",
    "final_merge['surplus_charge_calls'] = final_merge['surplus_charge_calls'].abs()\n",
    "final_merge['surplus_charge_messages'] = final_merge['surplus_charge_messages'].abs()"
   ]
  },
  {
   "cell_type": "code",
   "execution_count": 45,
   "metadata": {},
   "outputs": [
    {
     "data": {
      "text/html": [
       "<div>\n",
       "<style scoped>\n",
       "    .dataframe tbody tr th:only-of-type {\n",
       "        vertical-align: middle;\n",
       "    }\n",
       "\n",
       "    .dataframe tbody tr th {\n",
       "        vertical-align: top;\n",
       "    }\n",
       "\n",
       "    .dataframe thead th {\n",
       "        text-align: right;\n",
       "    }\n",
       "</style>\n",
       "<table border=\"1\" class=\"dataframe\">\n",
       "  <thead>\n",
       "    <tr style=\"text-align: right;\">\n",
       "      <th></th>\n",
       "      <th>user_id</th>\n",
       "      <th>Nb_of_calls</th>\n",
       "      <th>Nb_of_min</th>\n",
       "      <th>Nb_of_data_sessions</th>\n",
       "      <th>Data_used_in_gb</th>\n",
       "      <th>Nb_of_messages_sent</th>\n",
       "      <th>plan</th>\n",
       "      <th>city</th>\n",
       "      <th>surplus_calls</th>\n",
       "      <th>messages_surplus</th>\n",
       "      <th>data_surplus</th>\n",
       "      <th>surplus_charge_calls</th>\n",
       "      <th>surplus_charge_messages</th>\n",
       "      <th>surplus_charge_data</th>\n",
       "    </tr>\n",
       "  </thead>\n",
       "  <tbody>\n",
       "    <tr>\n",
       "      <td>0</td>\n",
       "      <td>1000</td>\n",
       "      <td>16.0</td>\n",
       "      <td>124.0</td>\n",
       "      <td>5.0</td>\n",
       "      <td>2.0</td>\n",
       "      <td>11.0</td>\n",
       "      <td>ultimate</td>\n",
       "      <td>Atlanta-Sandy Springs-Roswell, GA MSA</td>\n",
       "      <td>2876.0</td>\n",
       "      <td>989.0</td>\n",
       "      <td>28.0</td>\n",
       "      <td>28.76</td>\n",
       "      <td>9.89</td>\n",
       "      <td>196.0</td>\n",
       "    </tr>\n",
       "    <tr>\n",
       "      <td>1</td>\n",
       "      <td>1001</td>\n",
       "      <td>261.0</td>\n",
       "      <td>1728.0</td>\n",
       "      <td>245.0</td>\n",
       "      <td>79.0</td>\n",
       "      <td>207.0</td>\n",
       "      <td>surf</td>\n",
       "      <td>Seattle-Tacoma-Bellevue, WA MSA</td>\n",
       "      <td>-1228.0</td>\n",
       "      <td>-157.0</td>\n",
       "      <td>-64.0</td>\n",
       "      <td>36.84</td>\n",
       "      <td>4.71</td>\n",
       "      <td>640.0</td>\n",
       "    </tr>\n",
       "    <tr>\n",
       "      <td>2</td>\n",
       "      <td>1002</td>\n",
       "      <td>113.0</td>\n",
       "      <td>829.0</td>\n",
       "      <td>124.0</td>\n",
       "      <td>40.0</td>\n",
       "      <td>88.0</td>\n",
       "      <td>surf</td>\n",
       "      <td>Las Vegas-Henderson-Paradise, NV MSA</td>\n",
       "      <td>-329.0</td>\n",
       "      <td>-38.0</td>\n",
       "      <td>-25.0</td>\n",
       "      <td>9.87</td>\n",
       "      <td>1.14</td>\n",
       "      <td>250.0</td>\n",
       "    </tr>\n",
       "    <tr>\n",
       "      <td>3</td>\n",
       "      <td>1003</td>\n",
       "      <td>149.0</td>\n",
       "      <td>1104.0</td>\n",
       "      <td>52.0</td>\n",
       "      <td>27.0</td>\n",
       "      <td>50.0</td>\n",
       "      <td>surf</td>\n",
       "      <td>Tulsa, OK MSA</td>\n",
       "      <td>-604.0</td>\n",
       "      <td>0.0</td>\n",
       "      <td>-12.0</td>\n",
       "      <td>18.12</td>\n",
       "      <td>0.00</td>\n",
       "      <td>120.0</td>\n",
       "    </tr>\n",
       "    <tr>\n",
       "      <td>4</td>\n",
       "      <td>1004</td>\n",
       "      <td>370.0</td>\n",
       "      <td>2772.0</td>\n",
       "      <td>460.0</td>\n",
       "      <td>153.0</td>\n",
       "      <td>177.0</td>\n",
       "      <td>surf</td>\n",
       "      <td>Seattle-Tacoma-Bellevue, WA MSA</td>\n",
       "      <td>-2272.0</td>\n",
       "      <td>-127.0</td>\n",
       "      <td>-138.0</td>\n",
       "      <td>68.16</td>\n",
       "      <td>3.81</td>\n",
       "      <td>1380.0</td>\n",
       "    </tr>\n",
       "  </tbody>\n",
       "</table>\n",
       "</div>"
      ],
      "text/plain": [
       "   user_id  Nb_of_calls  Nb_of_min  Nb_of_data_sessions  Data_used_in_gb  \\\n",
       "0     1000         16.0      124.0                  5.0              2.0   \n",
       "1     1001        261.0     1728.0                245.0             79.0   \n",
       "2     1002        113.0      829.0                124.0             40.0   \n",
       "3     1003        149.0     1104.0                 52.0             27.0   \n",
       "4     1004        370.0     2772.0                460.0            153.0   \n",
       "\n",
       "   Nb_of_messages_sent      plan                                   city  \\\n",
       "0                 11.0  ultimate  Atlanta-Sandy Springs-Roswell, GA MSA   \n",
       "1                207.0      surf        Seattle-Tacoma-Bellevue, WA MSA   \n",
       "2                 88.0      surf   Las Vegas-Henderson-Paradise, NV MSA   \n",
       "3                 50.0      surf                          Tulsa, OK MSA   \n",
       "4                177.0      surf        Seattle-Tacoma-Bellevue, WA MSA   \n",
       "\n",
       "   surplus_calls  messages_surplus  data_surplus  surplus_charge_calls  \\\n",
       "0         2876.0             989.0          28.0                 28.76   \n",
       "1        -1228.0            -157.0         -64.0                 36.84   \n",
       "2         -329.0             -38.0         -25.0                  9.87   \n",
       "3         -604.0               0.0         -12.0                 18.12   \n",
       "4        -2272.0            -127.0        -138.0                 68.16   \n",
       "\n",
       "   surplus_charge_messages  surplus_charge_data  \n",
       "0                     9.89                196.0  \n",
       "1                     4.71                640.0  \n",
       "2                     1.14                250.0  \n",
       "3                     0.00                120.0  \n",
       "4                     3.81               1380.0  "
      ]
     },
     "execution_count": 45,
     "metadata": {},
     "output_type": "execute_result"
    }
   ],
   "source": [
    "final_merge.head()"
   ]
  },
  {
   "cell_type": "markdown",
   "metadata": {},
   "source": [
    "**Replacing the positive values of the surplus calls,messages,data columns by 0 as the user didn't do any outpackage consumption**"
   ]
  },
  {
   "cell_type": "code",
   "execution_count": 46,
   "metadata": {},
   "outputs": [
    {
     "data": {
      "text/html": [
       "<div>\n",
       "<style scoped>\n",
       "    .dataframe tbody tr th:only-of-type {\n",
       "        vertical-align: middle;\n",
       "    }\n",
       "\n",
       "    .dataframe tbody tr th {\n",
       "        vertical-align: top;\n",
       "    }\n",
       "\n",
       "    .dataframe thead th {\n",
       "        text-align: right;\n",
       "    }\n",
       "</style>\n",
       "<table border=\"1\" class=\"dataframe\">\n",
       "  <thead>\n",
       "    <tr style=\"text-align: right;\">\n",
       "      <th></th>\n",
       "      <th>user_id</th>\n",
       "      <th>Nb_of_calls</th>\n",
       "      <th>Nb_of_min</th>\n",
       "      <th>Nb_of_data_sessions</th>\n",
       "      <th>Data_used_in_gb</th>\n",
       "      <th>Nb_of_messages_sent</th>\n",
       "      <th>plan</th>\n",
       "      <th>city</th>\n",
       "      <th>surplus_calls</th>\n",
       "      <th>messages_surplus</th>\n",
       "      <th>data_surplus</th>\n",
       "      <th>surplus_charge_calls</th>\n",
       "      <th>surplus_charge_messages</th>\n",
       "      <th>surplus_charge_data</th>\n",
       "    </tr>\n",
       "  </thead>\n",
       "  <tbody>\n",
       "    <tr>\n",
       "      <td>0</td>\n",
       "      <td>1000</td>\n",
       "      <td>16.0</td>\n",
       "      <td>124.0</td>\n",
       "      <td>5.0</td>\n",
       "      <td>2.0</td>\n",
       "      <td>11.0</td>\n",
       "      <td>ultimate</td>\n",
       "      <td>Atlanta-Sandy Springs-Roswell, GA MSA</td>\n",
       "      <td>2876.0</td>\n",
       "      <td>989.0</td>\n",
       "      <td>28.0</td>\n",
       "      <td>0.0</td>\n",
       "      <td>0.0</td>\n",
       "      <td>0.0</td>\n",
       "    </tr>\n",
       "    <tr>\n",
       "      <td>1</td>\n",
       "      <td>1001</td>\n",
       "      <td>261.0</td>\n",
       "      <td>1728.0</td>\n",
       "      <td>245.0</td>\n",
       "      <td>79.0</td>\n",
       "      <td>207.0</td>\n",
       "      <td>surf</td>\n",
       "      <td>Seattle-Tacoma-Bellevue, WA MSA</td>\n",
       "      <td>-1228.0</td>\n",
       "      <td>-157.0</td>\n",
       "      <td>-64.0</td>\n",
       "      <td>0.0</td>\n",
       "      <td>0.0</td>\n",
       "      <td>0.0</td>\n",
       "    </tr>\n",
       "    <tr>\n",
       "      <td>2</td>\n",
       "      <td>1002</td>\n",
       "      <td>113.0</td>\n",
       "      <td>829.0</td>\n",
       "      <td>124.0</td>\n",
       "      <td>40.0</td>\n",
       "      <td>88.0</td>\n",
       "      <td>surf</td>\n",
       "      <td>Las Vegas-Henderson-Paradise, NV MSA</td>\n",
       "      <td>-329.0</td>\n",
       "      <td>-38.0</td>\n",
       "      <td>-25.0</td>\n",
       "      <td>0.0</td>\n",
       "      <td>0.0</td>\n",
       "      <td>0.0</td>\n",
       "    </tr>\n",
       "    <tr>\n",
       "      <td>3</td>\n",
       "      <td>1003</td>\n",
       "      <td>149.0</td>\n",
       "      <td>1104.0</td>\n",
       "      <td>52.0</td>\n",
       "      <td>27.0</td>\n",
       "      <td>50.0</td>\n",
       "      <td>surf</td>\n",
       "      <td>Tulsa, OK MSA</td>\n",
       "      <td>-604.0</td>\n",
       "      <td>0.0</td>\n",
       "      <td>-12.0</td>\n",
       "      <td>0.0</td>\n",
       "      <td>0.0</td>\n",
       "      <td>0.0</td>\n",
       "    </tr>\n",
       "    <tr>\n",
       "      <td>4</td>\n",
       "      <td>1004</td>\n",
       "      <td>370.0</td>\n",
       "      <td>2772.0</td>\n",
       "      <td>460.0</td>\n",
       "      <td>153.0</td>\n",
       "      <td>177.0</td>\n",
       "      <td>surf</td>\n",
       "      <td>Seattle-Tacoma-Bellevue, WA MSA</td>\n",
       "      <td>-2272.0</td>\n",
       "      <td>-127.0</td>\n",
       "      <td>-138.0</td>\n",
       "      <td>0.0</td>\n",
       "      <td>0.0</td>\n",
       "      <td>0.0</td>\n",
       "    </tr>\n",
       "  </tbody>\n",
       "</table>\n",
       "</div>"
      ],
      "text/plain": [
       "   user_id  Nb_of_calls  Nb_of_min  Nb_of_data_sessions  Data_used_in_gb  \\\n",
       "0     1000         16.0      124.0                  5.0              2.0   \n",
       "1     1001        261.0     1728.0                245.0             79.0   \n",
       "2     1002        113.0      829.0                124.0             40.0   \n",
       "3     1003        149.0     1104.0                 52.0             27.0   \n",
       "4     1004        370.0     2772.0                460.0            153.0   \n",
       "\n",
       "   Nb_of_messages_sent      plan                                   city  \\\n",
       "0                 11.0  ultimate  Atlanta-Sandy Springs-Roswell, GA MSA   \n",
       "1                207.0      surf        Seattle-Tacoma-Bellevue, WA MSA   \n",
       "2                 88.0      surf   Las Vegas-Henderson-Paradise, NV MSA   \n",
       "3                 50.0      surf                          Tulsa, OK MSA   \n",
       "4                177.0      surf        Seattle-Tacoma-Bellevue, WA MSA   \n",
       "\n",
       "   surplus_calls  messages_surplus  data_surplus  surplus_charge_calls  \\\n",
       "0         2876.0             989.0          28.0                   0.0   \n",
       "1        -1228.0            -157.0         -64.0                   0.0   \n",
       "2         -329.0             -38.0         -25.0                   0.0   \n",
       "3         -604.0               0.0         -12.0                   0.0   \n",
       "4        -2272.0            -127.0        -138.0                   0.0   \n",
       "\n",
       "   surplus_charge_messages  surplus_charge_data  \n",
       "0                      0.0                  0.0  \n",
       "1                      0.0                  0.0  \n",
       "2                      0.0                  0.0  \n",
       "3                      0.0                  0.0  \n",
       "4                      0.0                  0.0  "
      ]
     },
     "execution_count": 46,
     "metadata": {},
     "output_type": "execute_result"
    }
   ],
   "source": [
    "final_merge['surplus_charge_calls'] = final_merge['surplus_charge_calls'].mask(final_merge['surplus_charge_calls'] > 0, 0)       \n",
    "final_merge['surplus_charge_messages'] = final_merge['surplus_charge_messages'].mask(final_merge['surplus_charge_messages'] > 0, 0)  \n",
    "final_merge['surplus_charge_data'] = final_merge['surplus_charge_data'].mask(final_merge['surplus_charge_data'] > 0, 0)\n",
    "final_merge.head()"
   ]
  },
  {
   "cell_type": "markdown",
   "metadata": {},
   "source": [
    "**Adding monthly charge depending on the calling plan & surplus charges:**"
   ]
  },
  {
   "cell_type": "code",
   "execution_count": 47,
   "metadata": {},
   "outputs": [
    {
     "name": "stdout",
     "output_type": "stream",
     "text": [
      "We have an average revenue of : 36.1\n"
     ]
    },
    {
     "data": {
      "text/html": [
       "<div>\n",
       "<style scoped>\n",
       "    .dataframe tbody tr th:only-of-type {\n",
       "        vertical-align: middle;\n",
       "    }\n",
       "\n",
       "    .dataframe tbody tr th {\n",
       "        vertical-align: top;\n",
       "    }\n",
       "\n",
       "    .dataframe thead th {\n",
       "        text-align: right;\n",
       "    }\n",
       "</style>\n",
       "<table border=\"1\" class=\"dataframe\">\n",
       "  <thead>\n",
       "    <tr style=\"text-align: right;\">\n",
       "      <th></th>\n",
       "      <th>user_id</th>\n",
       "      <th>Nb_of_calls</th>\n",
       "      <th>Nb_of_min</th>\n",
       "      <th>Nb_of_data_sessions</th>\n",
       "      <th>Data_used_in_gb</th>\n",
       "      <th>Nb_of_messages_sent</th>\n",
       "      <th>plan</th>\n",
       "      <th>city</th>\n",
       "      <th>surplus_calls</th>\n",
       "      <th>messages_surplus</th>\n",
       "      <th>data_surplus</th>\n",
       "      <th>surplus_charge_calls</th>\n",
       "      <th>surplus_charge_messages</th>\n",
       "      <th>surplus_charge_data</th>\n",
       "      <th>revenue</th>\n",
       "    </tr>\n",
       "  </thead>\n",
       "  <tbody>\n",
       "    <tr>\n",
       "      <td>0</td>\n",
       "      <td>1000</td>\n",
       "      <td>16.0</td>\n",
       "      <td>124.0</td>\n",
       "      <td>5.0</td>\n",
       "      <td>2.0</td>\n",
       "      <td>11.0</td>\n",
       "      <td>ultimate</td>\n",
       "      <td>Atlanta-Sandy Springs-Roswell, GA MSA</td>\n",
       "      <td>2876.0</td>\n",
       "      <td>989.0</td>\n",
       "      <td>28.0</td>\n",
       "      <td>0.0</td>\n",
       "      <td>0.0</td>\n",
       "      <td>0.0</td>\n",
       "      <td>70.0</td>\n",
       "    </tr>\n",
       "    <tr>\n",
       "      <td>1</td>\n",
       "      <td>1001</td>\n",
       "      <td>261.0</td>\n",
       "      <td>1728.0</td>\n",
       "      <td>245.0</td>\n",
       "      <td>79.0</td>\n",
       "      <td>207.0</td>\n",
       "      <td>surf</td>\n",
       "      <td>Seattle-Tacoma-Bellevue, WA MSA</td>\n",
       "      <td>-1228.0</td>\n",
       "      <td>-157.0</td>\n",
       "      <td>-64.0</td>\n",
       "      <td>0.0</td>\n",
       "      <td>0.0</td>\n",
       "      <td>0.0</td>\n",
       "      <td>20.0</td>\n",
       "    </tr>\n",
       "    <tr>\n",
       "      <td>2</td>\n",
       "      <td>1002</td>\n",
       "      <td>113.0</td>\n",
       "      <td>829.0</td>\n",
       "      <td>124.0</td>\n",
       "      <td>40.0</td>\n",
       "      <td>88.0</td>\n",
       "      <td>surf</td>\n",
       "      <td>Las Vegas-Henderson-Paradise, NV MSA</td>\n",
       "      <td>-329.0</td>\n",
       "      <td>-38.0</td>\n",
       "      <td>-25.0</td>\n",
       "      <td>0.0</td>\n",
       "      <td>0.0</td>\n",
       "      <td>0.0</td>\n",
       "      <td>20.0</td>\n",
       "    </tr>\n",
       "    <tr>\n",
       "      <td>3</td>\n",
       "      <td>1003</td>\n",
       "      <td>149.0</td>\n",
       "      <td>1104.0</td>\n",
       "      <td>52.0</td>\n",
       "      <td>27.0</td>\n",
       "      <td>50.0</td>\n",
       "      <td>surf</td>\n",
       "      <td>Tulsa, OK MSA</td>\n",
       "      <td>-604.0</td>\n",
       "      <td>0.0</td>\n",
       "      <td>-12.0</td>\n",
       "      <td>0.0</td>\n",
       "      <td>0.0</td>\n",
       "      <td>0.0</td>\n",
       "      <td>20.0</td>\n",
       "    </tr>\n",
       "    <tr>\n",
       "      <td>4</td>\n",
       "      <td>1004</td>\n",
       "      <td>370.0</td>\n",
       "      <td>2772.0</td>\n",
       "      <td>460.0</td>\n",
       "      <td>153.0</td>\n",
       "      <td>177.0</td>\n",
       "      <td>surf</td>\n",
       "      <td>Seattle-Tacoma-Bellevue, WA MSA</td>\n",
       "      <td>-2272.0</td>\n",
       "      <td>-127.0</td>\n",
       "      <td>-138.0</td>\n",
       "      <td>0.0</td>\n",
       "      <td>0.0</td>\n",
       "      <td>0.0</td>\n",
       "      <td>20.0</td>\n",
       "    </tr>\n",
       "  </tbody>\n",
       "</table>\n",
       "</div>"
      ],
      "text/plain": [
       "   user_id  Nb_of_calls  Nb_of_min  Nb_of_data_sessions  Data_used_in_gb  \\\n",
       "0     1000         16.0      124.0                  5.0              2.0   \n",
       "1     1001        261.0     1728.0                245.0             79.0   \n",
       "2     1002        113.0      829.0                124.0             40.0   \n",
       "3     1003        149.0     1104.0                 52.0             27.0   \n",
       "4     1004        370.0     2772.0                460.0            153.0   \n",
       "\n",
       "   Nb_of_messages_sent      plan                                   city  \\\n",
       "0                 11.0  ultimate  Atlanta-Sandy Springs-Roswell, GA MSA   \n",
       "1                207.0      surf        Seattle-Tacoma-Bellevue, WA MSA   \n",
       "2                 88.0      surf   Las Vegas-Henderson-Paradise, NV MSA   \n",
       "3                 50.0      surf                          Tulsa, OK MSA   \n",
       "4                177.0      surf        Seattle-Tacoma-Bellevue, WA MSA   \n",
       "\n",
       "   surplus_calls  messages_surplus  data_surplus  surplus_charge_calls  \\\n",
       "0         2876.0             989.0          28.0                   0.0   \n",
       "1        -1228.0            -157.0         -64.0                   0.0   \n",
       "2         -329.0             -38.0         -25.0                   0.0   \n",
       "3         -604.0               0.0         -12.0                   0.0   \n",
       "4        -2272.0            -127.0        -138.0                   0.0   \n",
       "\n",
       "   surplus_charge_messages  surplus_charge_data  revenue  \n",
       "0                      0.0                  0.0     70.0  \n",
       "1                      0.0                  0.0     20.0  \n",
       "2                      0.0                  0.0     20.0  \n",
       "3                      0.0                  0.0     20.0  \n",
       "4                      0.0                  0.0     20.0  "
      ]
     },
     "execution_count": 47,
     "metadata": {},
     "output_type": "execute_result"
    }
   ],
   "source": [
    "final_merge[\"revenue\"] = final_merge[\"plan\"].map(revenue) + final_merge['surplus_charge_calls'] + final_merge['surplus_charge_messages'] + final_merge['surplus_charge_data']\n",
    "mean_revenue = final_merge['revenue'].mean()\n",
    "print(\"We have an average revenue of :\",mean_revenue)\n",
    "final_merge.head()"
   ]
  },
  {
   "cell_type": "markdown",
   "metadata": {},
   "source": [
    "Conclusion for the data preprocessing:\n",
    "\n",
    "-  In the  \"megaline_users\" table \"churn_date\" column has 466 missing values.I filled those missing values with \"31-12-2018\" because the telecom operator Megaline wants to know the data for 2018.That's why I filled \"churn_date\" column till end of 2018.\n",
    "-  After observation, I found \"churn_date\", \"reg_date\", \"call_date\", \"message_date\", \"session_date\" columns were string type. I converted it from srting type to date type format.\n",
    "-  In \"megaline_calls\" table, I converted the \"duration\" column data type from float type to integer type.According to the question, for calls, each individual call is rounded up: even if the call lasted just one second, it will be counted as one minute. \n",
    "-  In the \"megaline_internet\" dataset \"mb_used\" column, I divided the \"mb_used\" column by 1024 for converting the result from megabytes to gigabytes and  according to the question, for \"mb_used\", each individual \"mb_used\" is rounded up: even if the \"mb_used\" lasted just one megabyte, it will be counted as one gigabyte. \n",
    "-  In the \"megaline_internet\" dataset \"mb_used\" column, there are 13747 rows have zero values. This means that 13747 clients did not use internet.\n",
    "-  In the \"megaline_calls\" dataset \"duration\" column, there are 26834 rows have zero values. This means that 26834 clients did not use number of minutes.\n",
    "-  After merging, creating functions and adding extra bills finally we got an average revenue is 36.0."
   ]
  },
  {
   "cell_type": "markdown",
   "metadata": {},
   "source": [
    "<a id='the_destination3'></a>\n",
    "# Step 3. Analyze the data"
   ]
  },
  {
   "cell_type": "markdown",
   "metadata": {},
   "source": [
    "**Histograms for \"revenue\", \"Nb_of_min\", \"Nb_of_messages_sent\", \"Data_used_in_gb\":**"
   ]
  },
  {
   "cell_type": "code",
   "execution_count": 48,
   "metadata": {},
   "outputs": [
    {
     "data": {
      "image/png": "[encoded data removed]",
      "text/plain": [
       "<Figure size 432x288 with 1 Axes>"
      ]
     },
     "metadata": {
      "needs_background": "light"
     },
     "output_type": "display_data"
    },
    {
     "data": {
      "image/png": "[encoded data removed]",
      "text/plain": [
       "<Figure size 432x288 with 1 Axes>"
      ]
     },
     "metadata": {
      "needs_background": "light"
     },
     "output_type": "display_data"
    },
    {
     "data": {
      "image/png": "[encoded data removed]",
      "text/plain": [
       "<Figure size 432x288 with 1 Axes>"
      ]
     },
     "metadata": {
      "needs_background": "light"
     },
     "output_type": "display_data"
    },
    {
     "data": {
      "image/png": "[encoded data removed]",
      "text/plain": [
       "<Figure size 432x288 with 1 Axes>"
      ]
     },
     "metadata": {
      "needs_background": "light"
     },
     "output_type": "display_data"
    }
   ],
   "source": [
    "final_merge.hist('revenue', bins=10, range=(0,100))\n",
    "plt.xlabel('revenue')\n",
    "plt.ylabel('Frequency')\n",
    "plt.show()\n",
    "\n",
    "final_merge.hist('Nb_of_min', bins=10, range=(0,3000))\n",
    "plt.xlabel('Nb_of_min')\n",
    "plt.ylabel('Frequency')\n",
    "plt.show()\n",
    "\n",
    "final_merge.hist('Nb_of_messages_sent', bins=25, range=(0,1000))\n",
    "plt.xlabel('Nb_of_messages_sent')\n",
    "plt.ylabel('Frequency')\n",
    "plt.show()\n",
    "\n",
    "final_merge.hist('Data_used_in_gb', bins=5, range=(0,30))\n",
    "plt.xlabel('Data_used_in_gb')\n",
    "plt.ylabel('Frequency')\n",
    "plt.show()"
   ]
  },
  {
   "cell_type": "markdown",
   "metadata": {},
   "source": [
    "From the histograms I can conclude that:\n",
    "- Most of the revenues are less than 25 dollars. From that I can say that there are  more clients for surf plan than clients of ultimate plan(By comparing the price of monthly charge).\n",
    "- From \"Nb_of_min\" histogram, we can conclude that maximum clients used around 1500 minutes.\n",
    "- From \"Nb_of_messages_sent\" histogram, we can say that clients are not interested for sending messages. Very few people sent messages.\n",
    "- Almost all of the clients used more internet."
   ]
  },
  {
   "cell_type": "markdown",
   "metadata": {},
   "source": [
    "**Drawing catplot comparing by plan and \"Nb_of_min\", \"Nb_of_messages_sent\", \"Data_used_in_gb\", \"revenue\":**"
   ]
  },
  {
   "cell_type": "code",
   "execution_count": 49,
   "metadata": {},
   "outputs": [
    {
     "data": {
      "text/plain": [
       "<seaborn.axisgrid.FacetGrid at 0x2690d956c48>"
      ]
     },
     "execution_count": 49,
     "metadata": {},
     "output_type": "execute_result"
    },
    {
     "data": {
      "image/png": "[encoded data removed]",
      "text/plain": [
       "<Figure size 360x360 with 1 Axes>"
      ]
     },
     "metadata": {
      "needs_background": "light"
     },
     "output_type": "display_data"
    },
    {
     "data": {
      "image/png": "[encoded data removed]",
      "text/plain": [
       "<Figure size 360x360 with 1 Axes>"
      ]
     },
     "metadata": {
      "needs_background": "light"
     },
     "output_type": "display_data"
    },
    {
     "data": {
      "image/png": "[encoded data removed]",
      "text/plain": [
       "<Figure size 360x360 with 1 Axes>"
      ]
     },
     "metadata": {
      "needs_background": "light"
     },
     "output_type": "display_data"
    },
    {
     "data": {
      "image/png": "[encoded data removed]",
      "text/plain": [
       "<Figure size 360x360 with 1 Axes>"
      ]
     },
     "metadata": {
      "needs_background": "light"
     },
     "output_type": "display_data"
    }
   ],
   "source": [
    "sns.catplot(x=\"plan\", y=\"Nb_of_min\",  kind=\"box\", data=final_merge).set(title='box plot for Nb_of_min in terms of plan')\n",
    "sns.catplot(x=\"plan\", y=\"Nb_of_messages_sent\",  kind=\"box\", data=final_merge).set(title='box plot for Nb_of_messages_sent in terms of plan')\n",
    "sns.catplot(x=\"plan\", y=\"Data_used_in_gb\",  kind=\"box\", data=final_merge).set(title='box plot for Data_used_in_gb in terms of plan')\n",
    "sns.catplot(x=\"plan\", y=\"revenue\",  kind=\"box\", data=final_merge).set(title='box plot for avg_revenue in terms of plan')"
   ]
  },
  {
   "cell_type": "markdown",
   "metadata": {},
   "source": [
    "From the catplot we can say:\n",
    "-  When comparing \"Nb_of_min\" for the surf and ultimate plan users lower limit, 25% percentile and median are same. Only slightly difference for the upper limit. \n",
    "-  When comparing \"Nb_of_messages_sent\" for the surf and ultimate plan users, IQR range is bit higher for the ultimate plan compared to surf plan.\n",
    "-  For the \"Data_used_in_gb\", lower limit,medium and 25% percentile are same for both type of clients(little difference for 75% percentile and upper limit).\n",
    "-  For the \"revenue\", we can say ultimate plan users paying more revenues compared to the surf plan users.\n",
    "    "
   ]
  },
  {
   "cell_type": "markdown",
   "metadata": {},
   "source": [
    "**Determining the \"surf\" and \"ultimate\" plan users:**"
   ]
  },
  {
   "cell_type": "code",
   "execution_count": 50,
   "metadata": {},
   "outputs": [
    {
     "name": "stdout",
     "output_type": "stream",
     "text": [
      "number of total clients: 500\n",
      "surf        339\n",
      "ultimate    161\n",
      "Name: plan, dtype: int64\n"
     ]
    }
   ],
   "source": [
    "print(\"number of total clients:\", len(final_merge))\n",
    "print(final_merge['plan'].value_counts())"
   ]
  },
  {
   "cell_type": "markdown",
   "metadata": {},
   "source": [
    "In the telecom operator Megaline has 500 clients in total. Among all of them 339 are surf plan users and 161 are ultimate plan users."
   ]
  },
  {
   "cell_type": "markdown",
   "metadata": {},
   "source": [
    "**Dispersion for the \"revenue\" column:**"
   ]
  },
  {
   "cell_type": "code",
   "execution_count": 51,
   "metadata": {},
   "outputs": [
    {
     "name": "stdout",
     "output_type": "stream",
     "text": [
      "Upper_limit: 145.0\n",
      "Lower_limit: -55.0\n"
     ]
    }
   ],
   "source": [
    "Q1 = final_merge['revenue'].quantile(0.25)\n",
    "Q3 = final_merge['revenue'].quantile(0.75)\n",
    "IQR = Q3 - Q1\n",
    "lower_limit = Q1 - 1.5 * IQR\n",
    "upper_limit = Q3 + 1.5 * IQR\n",
    "print(\"Upper_limit:\" , upper_limit.round())\n",
    "print(\"Lower_limit:\" , lower_limit.round())"
   ]
  },
  {
   "cell_type": "markdown",
   "metadata": {},
   "source": [
    "The dispersion for the \"revenue\" is between -55 to 145."
   ]
  },
  {
   "cell_type": "markdown",
   "metadata": {},
   "source": [
    "**Determining mean for the \"revenue\":**"
   ]
  },
  {
   "cell_type": "code",
   "execution_count": 52,
   "metadata": {},
   "outputs": [
    {
     "name": "stdout",
     "output_type": "stream",
     "text": [
      "Mean for revenue column: 36.1\n",
      "\n",
      "According to the plan users mean:\n",
      "plan\n",
      "surf        20.0\n",
      "ultimate    70.0\n",
      "Name: revenue, dtype: float64\n"
     ]
    }
   ],
   "source": [
    "print(\"Mean for revenue column:\", final_merge['revenue'].mean())\n",
    "print()\n",
    "print(\"According to the plan users mean:\")\n",
    "print(final_merge.groupby('plan')['revenue'].mean())"
   ]
  },
  {
   "cell_type": "markdown",
   "metadata": {},
   "source": [
    "For both plans average revenue is 36.1. Average revenue for the \"ultimate\" plan users is higher compared to the \"surf\" plan users."
   ]
  },
  {
   "cell_type": "markdown",
   "metadata": {},
   "source": [
    "**Total of average revenue:**"
   ]
  },
  {
   "cell_type": "code",
   "execution_count": 53,
   "metadata": {},
   "outputs": [
    {
     "name": "stdout",
     "output_type": "stream",
     "text": [
      "Total of average revenue: 18050.0\n",
      "\n",
      "According to users:\n",
      "\n",
      "plan\n",
      "surf         6780.0\n",
      "ultimate    11270.0\n",
      "Name: revenue, dtype: float64\n"
     ]
    }
   ],
   "source": [
    "print(\"Total of average revenue:\", final_merge['revenue'].sum())\n",
    "print()\n",
    "print(\"According to users:\")\n",
    "print()\n",
    "print(final_merge.groupby('plan')['revenue'].sum())"
   ]
  },
  {
   "cell_type": "markdown",
   "metadata": {},
   "source": [
    "Total of average revenue is 18050.Total for the \"Surf\" and \"ultimate\" plan users average revenue is 6780 and 11270 respectively. "
   ]
  },
  {
   "cell_type": "markdown",
   "metadata": {},
   "source": [
    "**Determining variance and standard deviation for \"revenue\":**"
   ]
  },
  {
   "cell_type": "code",
   "execution_count": 54,
   "metadata": {},
   "outputs": [
    {
     "name": "stdout",
     "output_type": "stream",
     "text": [
      "variance for revenue column: 545.7899999999984\n",
      "standard deviation for revenue column: 23.362148873765836\n"
     ]
    }
   ],
   "source": [
    "variance = np.var(final_merge['revenue'])\n",
    "print(\"variance for revenue column:\", variance) \n",
    "standard_deviation = np.std(final_merge['revenue'])\n",
    "print (\"standard deviation for revenue column:\", standard_deviation)"
   ]
  },
  {
   "cell_type": "markdown",
   "metadata": {},
   "source": [
    "**Description of the \"Nb_of_min\", \"Nb_of_messages_sent\", \"Data_used_in_gb\",  \"revenue\" column:**"
   ]
  },
  {
   "cell_type": "code",
   "execution_count": 55,
   "metadata": {},
   "outputs": [
    {
     "name": "stdout",
     "output_type": "stream",
     "text": [
      "Information regarding Nb_of_min column:\n",
      "count     500.000000\n",
      "mean     1968.694000\n",
      "std      1717.948036\n",
      "min         0.000000\n",
      "25%       658.250000\n",
      "50%      1452.500000\n",
      "75%      2855.500000\n",
      "max      9495.000000\n",
      "Name: Nb_of_min, dtype: float64\n",
      "\n",
      "Information regarding Nb_of_messages_sent column:\n",
      "count     500.000000\n",
      "mean      152.102000\n",
      "std       187.988177\n",
      "min         0.000000\n",
      "25%        14.000000\n",
      "50%        87.000000\n",
      "75%       225.000000\n",
      "max      1288.000000\n",
      "Name: Nb_of_messages_sent, dtype: float64\n",
      "\n",
      "Information regarding Data_used_in_gb column:\n",
      "count    500.000000\n",
      "mean      75.576000\n",
      "std       60.880087\n",
      "min        0.000000\n",
      "25%       27.000000\n",
      "50%       60.000000\n",
      "75%      111.000000\n",
      "max      382.000000\n",
      "Name: Data_used_in_gb, dtype: float64\n",
      "\n",
      "Information regarding revenue column:\n",
      "count    500.000000\n",
      "mean      36.100000\n",
      "std       23.385546\n",
      "min       20.000000\n",
      "25%       20.000000\n",
      "50%       20.000000\n",
      "75%       70.000000\n",
      "max       70.000000\n",
      "Name: revenue, dtype: float64\n"
     ]
    }
   ],
   "source": [
    "print(\"Information regarding Nb_of_min column:\")\n",
    "print(final_merge['Nb_of_min'].describe())\n",
    "print()\n",
    "print(\"Information regarding Nb_of_messages_sent column:\")\n",
    "print(final_merge['Nb_of_messages_sent'].describe())\n",
    "print()\n",
    "print(\"Information regarding Data_used_in_gb column:\")\n",
    "print(final_merge['Data_used_in_gb'].describe())\n",
    "print()\n",
    "print(\"Information regarding revenue column:\")\n",
    "print(final_merge['revenue'].describe())"
   ]
  },
  {
   "cell_type": "markdown",
   "metadata": {},
   "source": [
    "-  In the telecom operator Megaline has 500 clients in total. Among all of them 339 are surf plan users and 161 are ultimate plan users.\n",
    "-  Total of average revenue is 18050.Total for the \"Surf\" and \"ultimate\" plan users average revenue is 6780 and 11270 respectively. \n",
    "-  variance for revenue column is 545.79 & standard deviation for revenue column is 23.36.\n",
    "-  The dispersion for the \"revenue\" is between -55 to 145."
   ]
  },
  {
   "cell_type": "markdown",
   "metadata": {},
   "source": [
    "<a id='the_destination4'></a>\n",
    "# Step 4. Testing hypotheses"
   ]
  },
  {
   "cell_type": "markdown",
   "metadata": {},
   "source": [
    "**First hypothsis formulation:**\n",
    "\n",
    "- Null Hypothesis (H_0) : The average revenue from users of Ultimate and Surf calling plans are equal.\n",
    "\n",
    "\n",
    "- Alternative hypothesis (H_1) : The average revenue from users of Ultimate and Surf calling plans are not equal."
   ]
  },
  {
   "cell_type": "markdown",
   "metadata": {},
   "source": [
    "**Comparison of variance for the \"ultimate\" and \"surf\" plan:**"
   ]
  },
  {
   "cell_type": "code",
   "execution_count": 56,
   "metadata": {},
   "outputs": [
    {
     "name": "stdout",
     "output_type": "stream",
     "text": [
      "both variance are equal\n"
     ]
    }
   ],
   "source": [
    "variance_01 = np.var(final_merge.query('plan == \"surf\"')['revenue'])\n",
    "variance_02 = np.var(final_merge.query('plan == \"ultimate\"')['revenue'])\n",
    " \n",
    "if variance_01 == variance_02:\n",
    "    print('both variance are equal')\n",
    "elif variance_01 != variance_02:\n",
    "    print('variance are not equal. So the parameter : equal_var = False ')\n",
    "else:\n",
    "    print(\"can not be compared\")"
   ]
  },
  {
   "cell_type": "markdown",
   "metadata": {},
   "source": [
    "**Applying critical statistical significance level and getting decision regarding null hypothesis:**"
   ]
  },
  {
   "cell_type": "code",
   "execution_count": 57,
   "metadata": {},
   "outputs": [
    {
     "name": "stdout",
     "output_type": "stream",
     "text": [
      "p-value: 0.0\n",
      "We reject the null hypothesis\n"
     ]
    }
   ],
   "source": [
    "alpha = 0.05 \n",
    "results = st.ttest_ind(final_merge.query('plan == \"surf\"')['revenue'],final_merge.query('plan == \"ultimate\"')['revenue'] , equal_var = False )\n",
    "print('p-value:', results.pvalue)\n",
    "if (results.pvalue < alpha):\n",
    "    print(\"We reject the null hypothesis\")\n",
    "else:\n",
    "    print(\"We can't reject the null hypothesis\")"
   ]
  },
  {
   "cell_type": "markdown",
   "metadata": {},
   "source": [
    "As we are rejecting null hypothesis that means the average revenue from users of Ultimate and Surf calling plans are not equal."
   ]
  },
  {
   "cell_type": "markdown",
   "metadata": {},
   "source": [
    "**Finding mean for the \"surf\" and \"ultimate\" plan users for \"revenue\":**"
   ]
  },
  {
   "cell_type": "code",
   "execution_count": 58,
   "metadata": {},
   "outputs": [
    {
     "name": "stdout",
     "output_type": "stream",
     "text": [
      "Mean for the surf plan users for revenue: 20.0\n",
      "\n",
      "Mean for the ultimate plan users for revenue: 70.0\n"
     ]
    }
   ],
   "source": [
    "print(\"Mean for the surf plan users for revenue:\", final_merge.query('plan == \"surf\"')['revenue'].mean())\n",
    "print()\n",
    "print(\"Mean for the ultimate plan users for revenue:\" , final_merge.query('plan == \"ultimate\"')['revenue'].mean())"
   ]
  },
  {
   "cell_type": "markdown",
   "metadata": {},
   "source": [
    "Mean for the \"ultimate\"  and \"surf\" plan users for revenue are not same.That means this follow the alternative hypothesis."
   ]
  },
  {
   "cell_type": "markdown",
   "metadata": {},
   "source": [
    "**Second hypothsis formulation:**\n",
    "\n",
    "- Null Hypothesis (H_0) : The average revenue from users in NY-NJ area is equal to that of the users from other regions.\n",
    "\n",
    "\n",
    "- Alternative hypothesis (H_1) : The average revenue from users in NY-NJ area is not equal to that of the users from other regions."
   ]
  },
  {
   "cell_type": "markdown",
   "metadata": {},
   "source": [
    "**Comparison of variance for the \"NY-NJ\" residents and \"not NY_NJ\" residents:**"
   ]
  },
  {
   "cell_type": "code",
   "execution_count": 59,
   "metadata": {},
   "outputs": [
    {
     "name": "stdout",
     "output_type": "stream",
     "text": [
      "variance are not equal. So the parameter : equal_var = False \n"
     ]
    }
   ],
   "source": [
    "variance_03 = np.var(final_merge.query('city == \"New York-Newark-Jersey City, NY-NJ-PA MSA\"')['revenue'])\n",
    "variance_04 = np.var(final_merge.query('city != \"New York-Newark-Jersey City, NY-NJ-PA MSA\"')['revenue'])\n",
    "\n",
    "if variance_03 == variance_04:\n",
    "    print('both variance are equal')\n",
    "elif variance_03 != variance_04:\n",
    "    print('variance are not equal. So the parameter : equal_var = False ')\n",
    "else:\n",
    "    print(\"can not be compared\")"
   ]
  },
  {
   "cell_type": "markdown",
   "metadata": {},
   "source": [
    "**Applying critical statistical significance level and getting decision regarding null hypothesis:**"
   ]
  },
  {
   "cell_type": "code",
   "execution_count": 60,
   "metadata": {},
   "outputs": [
    {
     "name": "stdout",
     "output_type": "stream",
     "text": [
      "p-value: 0.11449891680287495\n",
      "We can't reject the null hypothesis\n"
     ]
    }
   ],
   "source": [
    "alpha = 0.05\n",
    "results = st.ttest_ind(final_merge.query('city == \"New York-Newark-Jersey City, NY-NJ-PA MSA\"')['revenue'],final_merge.query('city != \"New York-Newark-Jersey City, NY-NJ-PA MSA\"')['revenue'] , equal_var = False)\n",
    "print('p-value:', results.pvalue)\n",
    "if (results.pvalue < alpha):\n",
    "    print(\"We reject the null hypothesis\")\n",
    "else:\n",
    "    print(\"We can't reject the null hypothesis\")"
   ]
  },
  {
   "cell_type": "markdown",
   "metadata": {},
   "source": [
    "As we are not rejecting null hypothesis that means the average revenue from users in NY-NJ area is equal to that of the users from other regions.."
   ]
  },
  {
   "cell_type": "markdown",
   "metadata": {},
   "source": [
    "**Finding mean for the \"NY_NJ_residents\" and \"not_NY_NJ_residents\" for \"revenue\":**"
   ]
  },
  {
   "cell_type": "code",
   "execution_count": 61,
   "metadata": {},
   "outputs": [
    {
     "name": "stdout",
     "output_type": "stream",
     "text": [
      "Mean for the NY-NJ residents for revenue: 32.5\n",
      "\n",
      "Mean is not for the NY-NJ residents for revenue: 36.785714285714285\n",
      "\n"
     ]
    }
   ],
   "source": [
    "NY_NJ_residents = final_merge.query('city == \"New York-Newark-Jersey City, NY-NJ-PA MSA\"')\n",
    "not_NY_NJ_residents = final_merge.query('city != \"New York-Newark-Jersey City, NY-NJ-PA MSA\"')\n",
    "\n",
    "print(\"Mean for the NY-NJ residents for revenue:\" , NY_NJ_residents[\"revenue\"].mean())\n",
    "print()\n",
    "print(\"Mean is not for the NY-NJ residents for revenue:\" , not_NY_NJ_residents[\"revenue\"].mean())\n",
    "print()"
   ]
  },
  {
   "cell_type": "markdown",
   "metadata": {},
   "source": [
    "Mean for the \"NY-NJ_residents\"  and \"not_NY_NJ_residents\" for revenue are almost same.That means this follow the null hypothesis."
   ]
  },
  {
   "cell_type": "markdown",
   "metadata": {},
   "source": [
    "\n",
    "<a id='the_destination5'></a>\n",
    "# Step 5. Overall Conclusion"
   ]
  },
  {
   "cell_type": "markdown",
   "metadata": {},
   "source": [
    "- After analysing the project, I can say that \"surf\" plan users are more than \"ultimate\" plan users.However \"ultimate\" plan users bring more revenues compared to \"surf\" plan users.\n",
    "- Telecom operator Megaline can focus on \"ultimate\" plan by adding more benefits so that clients would be more interested for using this plan & company can get more revenues.\n",
    "- There can be one more plan between \"surf\" plan & \"ultimate\" plan by considering monthly charge. So that clients can use their convenient plan & company get extra revenue form the \"new\" plan.. "
   ]
  },
  {
   "cell_type": "code",
   "execution_count": null,
   "metadata": {},
   "outputs": [],
   "source": []
  }
 ],
 "metadata": {
  "ExecuteTimeLog": [
   {
    "duration": 1127,
    "start_time": "2022-01-12T09:05:30.433Z"
   },
   {
    "duration": 130,
    "start_time": "2022-01-12T09:05:31.562Z"
   },
   {
    "duration": 288,
    "start_time": "2022-01-12T09:05:31.694Z"
   },
   {
    "duration": 144,
    "start_time": "2022-01-12T09:05:31.984Z"
   },
   {
    "duration": 19,
    "start_time": "2022-01-12T09:05:32.129Z"
   },
   {
    "duration": 34,
    "start_time": "2022-01-12T09:05:32.150Z"
   },
   {
    "duration": 30,
    "start_time": "2022-01-12T09:05:32.186Z"
   },
   {
    "duration": 12,
    "start_time": "2022-01-12T09:05:32.219Z"
   },
   {
    "duration": 17,
    "start_time": "2022-01-12T09:05:32.233Z"
   },
   {
    "duration": 26,
    "start_time": "2022-01-12T09:05:32.252Z"
   },
   {
    "duration": 21,
    "start_time": "2022-01-12T09:05:32.279Z"
   },
   {
    "duration": 35,
    "start_time": "2022-01-12T09:05:32.302Z"
   },
   {
    "duration": 13,
    "start_time": "2022-01-12T09:05:32.339Z"
   },
   {
    "duration": 72,
    "start_time": "2022-01-12T09:05:32.354Z"
   },
   {
    "duration": 10,
    "start_time": "2022-01-12T09:05:32.427Z"
   },
   {
    "duration": 114,
    "start_time": "2022-01-12T09:05:32.438Z"
   },
   {
    "duration": 12,
    "start_time": "2022-01-12T09:05:32.554Z"
   },
   {
    "duration": 17,
    "start_time": "2022-01-12T09:05:32.568Z"
   },
   {
    "duration": 56,
    "start_time": "2022-01-12T09:05:32.591Z"
   },
   {
    "duration": 16,
    "start_time": "2022-01-12T09:05:32.649Z"
   },
   {
    "duration": 28,
    "start_time": "2022-01-12T09:05:32.667Z"
   },
   {
    "duration": 20,
    "start_time": "2022-01-12T09:05:32.698Z"
   },
   {
    "duration": 40,
    "start_time": "2022-01-12T09:05:32.722Z"
   },
   {
    "duration": 30,
    "start_time": "2022-01-12T09:05:32.764Z"
   },
   {
    "duration": 14,
    "start_time": "2022-01-12T09:05:32.795Z"
   },
   {
    "duration": 33,
    "start_time": "2022-01-12T09:05:32.811Z"
   },
   {
    "duration": 37,
    "start_time": "2022-01-12T09:05:32.845Z"
   },
   {
    "duration": 20,
    "start_time": "2022-01-12T09:05:32.884Z"
   },
   {
    "duration": 20,
    "start_time": "2022-01-12T09:05:32.905Z"
   },
   {
    "duration": 28,
    "start_time": "2022-01-12T09:05:32.927Z"
   },
   {
    "duration": 13,
    "start_time": "2022-01-12T09:05:32.957Z"
   },
   {
    "duration": 26,
    "start_time": "2022-01-12T09:05:32.972Z"
   },
   {
    "duration": 44,
    "start_time": "2022-01-12T09:05:33.000Z"
   },
   {
    "duration": 64,
    "start_time": "2022-01-12T09:05:33.045Z"
   },
   {
    "duration": 43,
    "start_time": "2022-01-12T09:05:33.111Z"
   },
   {
    "duration": 16,
    "start_time": "2022-01-12T09:05:33.156Z"
   },
   {
    "duration": 4,
    "start_time": "2022-01-12T09:05:33.192Z"
   },
   {
    "duration": 23,
    "start_time": "2022-01-12T09:05:33.198Z"
   },
   {
    "duration": 28,
    "start_time": "2022-01-12T09:05:33.223Z"
   },
   {
    "duration": 288,
    "start_time": "2022-01-12T09:05:33.252Z"
   },
   {
    "duration": 9,
    "start_time": "2022-01-12T09:05:33.542Z"
   },
   {
    "duration": 27,
    "start_time": "2022-01-12T09:05:33.553Z"
   },
   {
    "duration": 13,
    "start_time": "2022-01-12T09:05:33.581Z"
   },
   {
    "duration": 21,
    "start_time": "2022-01-12T09:05:33.596Z"
   },
   {
    "duration": 28,
    "start_time": "2022-01-12T09:05:33.618Z"
   },
   {
    "duration": 23,
    "start_time": "2022-01-12T09:05:33.648Z"
   },
   {
    "duration": 32,
    "start_time": "2022-01-12T09:05:33.672Z"
   },
   {
    "duration": 796,
    "start_time": "2022-01-12T09:05:33.705Z"
   },
   {
    "duration": 1392,
    "start_time": "2022-01-12T09:05:34.502Z"
   },
   {
    "duration": 6,
    "start_time": "2022-01-12T09:05:35.896Z"
   },
   {
    "duration": 9,
    "start_time": "2022-01-12T09:05:35.904Z"
   },
   {
    "duration": 9,
    "start_time": "2022-01-12T09:05:35.914Z"
   },
   {
    "duration": 7,
    "start_time": "2022-01-12T09:05:35.925Z"
   },
   {
    "duration": 8,
    "start_time": "2022-01-12T09:05:35.933Z"
   },
   {
    "duration": 48,
    "start_time": "2022-01-12T09:05:35.943Z"
   },
   {
    "duration": 10,
    "start_time": "2022-01-12T09:05:35.994Z"
   },
   {
    "duration": 16,
    "start_time": "2022-01-12T09:05:36.006Z"
   },
   {
    "duration": 11,
    "start_time": "2022-01-12T09:05:36.024Z"
   },
   {
    "duration": 14,
    "start_time": "2022-01-12T09:05:36.037Z"
   },
   {
    "duration": 11,
    "start_time": "2022-01-12T09:05:36.052Z"
   },
   {
    "duration": 30,
    "start_time": "2022-01-12T09:05:36.064Z"
   },
   {
    "duration": 1099,
    "start_time": "2022-01-12T09:08:42.439Z"
   },
   {
    "duration": 128,
    "start_time": "2022-01-12T09:08:43.540Z"
   },
   {
    "duration": 104,
    "start_time": "2022-01-12T09:08:43.671Z"
   },
   {
    "duration": 67,
    "start_time": "2022-01-12T09:08:43.777Z"
   },
   {
    "duration": 19,
    "start_time": "2022-01-12T09:08:43.846Z"
   },
   {
    "duration": 40,
    "start_time": "2022-01-12T09:08:43.867Z"
   },
   {
    "duration": 18,
    "start_time": "2022-01-12T09:08:43.909Z"
   },
   {
    "duration": 14,
    "start_time": "2022-01-12T09:08:43.930Z"
   },
   {
    "duration": 11,
    "start_time": "2022-01-12T09:08:43.946Z"
   },
   {
    "duration": 6,
    "start_time": "2022-01-12T09:08:43.959Z"
   },
   {
    "duration": 28,
    "start_time": "2022-01-12T09:08:43.966Z"
   },
   {
    "duration": 15,
    "start_time": "2022-01-12T09:08:43.995Z"
   },
   {
    "duration": 8,
    "start_time": "2022-01-12T09:08:44.012Z"
   },
   {
    "duration": 81,
    "start_time": "2022-01-12T09:08:44.022Z"
   },
   {
    "duration": 12,
    "start_time": "2022-01-12T09:08:44.104Z"
   },
   {
    "duration": 120,
    "start_time": "2022-01-12T09:08:44.118Z"
   },
   {
    "duration": 14,
    "start_time": "2022-01-12T09:08:44.240Z"
   },
   {
    "duration": 10,
    "start_time": "2022-01-12T09:08:44.256Z"
   },
   {
    "duration": 68,
    "start_time": "2022-01-12T09:08:44.268Z"
   },
   {
    "duration": 19,
    "start_time": "2022-01-12T09:08:44.337Z"
   },
   {
    "duration": 34,
    "start_time": "2022-01-12T09:08:44.358Z"
   },
   {
    "duration": 21,
    "start_time": "2022-01-12T09:08:44.394Z"
   },
   {
    "duration": 32,
    "start_time": "2022-01-12T09:08:44.418Z"
   },
   {
    "duration": 39,
    "start_time": "2022-01-12T09:08:44.452Z"
   },
   {
    "duration": 15,
    "start_time": "2022-01-12T09:08:44.493Z"
   },
   {
    "duration": 15,
    "start_time": "2022-01-12T09:08:44.510Z"
   },
   {
    "duration": 35,
    "start_time": "2022-01-12T09:08:44.527Z"
   },
   {
    "duration": 42,
    "start_time": "2022-01-12T09:08:44.564Z"
   },
   {
    "duration": 17,
    "start_time": "2022-01-12T09:08:44.608Z"
   },
   {
    "duration": 19,
    "start_time": "2022-01-12T09:08:44.627Z"
   },
   {
    "duration": 51,
    "start_time": "2022-01-12T09:08:44.648Z"
   },
   {
    "duration": 12,
    "start_time": "2022-01-12T09:08:44.702Z"
   },
   {
    "duration": 39,
    "start_time": "2022-01-12T09:08:44.716Z"
   },
   {
    "duration": 86,
    "start_time": "2022-01-12T09:08:44.757Z"
   },
   {
    "duration": 58,
    "start_time": "2022-01-12T09:08:44.845Z"
   },
   {
    "duration": 14,
    "start_time": "2022-01-12T09:08:44.905Z"
   },
   {
    "duration": 5,
    "start_time": "2022-01-12T09:08:44.921Z"
   },
   {
    "duration": 15,
    "start_time": "2022-01-12T09:08:44.928Z"
   },
   {
    "duration": 47,
    "start_time": "2022-01-12T09:08:44.945Z"
   },
   {
    "duration": 295,
    "start_time": "2022-01-12T09:08:44.995Z"
   },
   {
    "duration": 9,
    "start_time": "2022-01-12T09:08:45.292Z"
   },
   {
    "duration": 9,
    "start_time": "2022-01-12T09:08:45.303Z"
   },
   {
    "duration": 7,
    "start_time": "2022-01-12T09:08:45.313Z"
   },
   {
    "duration": 11,
    "start_time": "2022-01-12T09:08:45.321Z"
   },
   {
    "duration": 19,
    "start_time": "2022-01-12T09:08:45.334Z"
   },
   {
    "duration": 37,
    "start_time": "2022-01-12T09:08:45.355Z"
   },
   {
    "duration": 18,
    "start_time": "2022-01-12T09:08:45.394Z"
   },
   {
    "duration": 840,
    "start_time": "2022-01-12T09:08:45.414Z"
   },
   {
    "duration": 1438,
    "start_time": "2022-01-12T09:08:46.256Z"
   },
   {
    "duration": 5,
    "start_time": "2022-01-12T09:08:47.695Z"
   },
   {
    "duration": 14,
    "start_time": "2022-01-12T09:08:47.702Z"
   },
   {
    "duration": 14,
    "start_time": "2022-01-12T09:08:47.718Z"
   },
   {
    "duration": 12,
    "start_time": "2022-01-12T09:08:47.734Z"
   },
   {
    "duration": 9,
    "start_time": "2022-01-12T09:08:47.747Z"
   },
   {
    "duration": 34,
    "start_time": "2022-01-12T09:08:47.757Z"
   },
   {
    "duration": 10,
    "start_time": "2022-01-12T09:08:47.793Z"
   },
   {
    "duration": 11,
    "start_time": "2022-01-12T09:08:47.805Z"
   },
   {
    "duration": 9,
    "start_time": "2022-01-12T09:08:47.817Z"
   },
   {
    "duration": 12,
    "start_time": "2022-01-12T09:08:47.827Z"
   },
   {
    "duration": 10,
    "start_time": "2022-01-12T09:08:47.841Z"
   },
   {
    "duration": 41,
    "start_time": "2022-01-12T09:08:47.853Z"
   },
   {
    "duration": 1471,
    "start_time": "2022-03-07T23:24:56.659Z"
   },
   {
    "duration": 151,
    "start_time": "2022-03-07T23:24:58.133Z"
   },
   {
    "duration": 125,
    "start_time": "2022-03-07T23:24:58.287Z"
   },
   {
    "duration": 86,
    "start_time": "2022-03-07T23:24:58.415Z"
   },
   {
    "duration": 17,
    "start_time": "2022-03-07T23:24:58.504Z"
   },
   {
    "duration": 24,
    "start_time": "2022-03-07T23:24:58.524Z"
   },
   {
    "duration": 38,
    "start_time": "2022-03-07T23:24:58.551Z"
   },
   {
    "duration": 16,
    "start_time": "2022-03-07T23:24:58.593Z"
   },
   {
    "duration": 12,
    "start_time": "2022-03-07T23:24:58.613Z"
   },
   {
    "duration": 7,
    "start_time": "2022-03-07T23:24:58.628Z"
   },
   {
    "duration": 48,
    "start_time": "2022-03-07T23:24:58.637Z"
   },
   {
    "duration": 22,
    "start_time": "2022-03-07T23:24:58.688Z"
   },
   {
    "duration": 9,
    "start_time": "2022-03-07T23:24:58.712Z"
   },
   {
    "duration": 105,
    "start_time": "2022-03-07T23:24:58.723Z"
   },
   {
    "duration": 19,
    "start_time": "2022-03-07T23:24:58.831Z"
   },
   {
    "duration": 155,
    "start_time": "2022-03-07T23:24:58.853Z"
   },
   {
    "duration": 16,
    "start_time": "2022-03-07T23:24:59.011Z"
   },
   {
    "duration": 11,
    "start_time": "2022-03-07T23:24:59.029Z"
   },
   {
    "duration": 93,
    "start_time": "2022-03-07T23:24:59.043Z"
   },
   {
    "duration": 22,
    "start_time": "2022-03-07T23:24:59.139Z"
   },
   {
    "duration": 38,
    "start_time": "2022-03-07T23:24:59.163Z"
   },
   {
    "duration": 25,
    "start_time": "2022-03-07T23:24:59.204Z"
   },
   {
    "duration": 77,
    "start_time": "2022-03-07T23:24:59.235Z"
   },
   {
    "duration": 17,
    "start_time": "2022-03-07T23:24:59.315Z"
   },
   {
    "duration": 24,
    "start_time": "2022-03-07T23:24:59.334Z"
   },
   {
    "duration": 21,
    "start_time": "2022-03-07T23:24:59.382Z"
   },
   {
    "duration": 49,
    "start_time": "2022-03-07T23:24:59.406Z"
   },
   {
    "duration": 20,
    "start_time": "2022-03-07T23:24:59.482Z"
   },
   {
    "duration": 24,
    "start_time": "2022-03-07T23:24:59.504Z"
   },
   {
    "duration": 53,
    "start_time": "2022-03-07T23:24:59.531Z"
   },
   {
    "duration": 19,
    "start_time": "2022-03-07T23:24:59.587Z"
   },
   {
    "duration": 16,
    "start_time": "2022-03-07T23:24:59.609Z"
   },
   {
    "duration": 81,
    "start_time": "2022-03-07T23:24:59.628Z"
   },
   {
    "duration": 100,
    "start_time": "2022-03-07T23:24:59.712Z"
   },
   {
    "duration": 85,
    "start_time": "2022-03-07T23:24:59.815Z"
   },
   {
    "duration": 20,
    "start_time": "2022-03-07T23:24:59.902Z"
   },
   {
    "duration": 8,
    "start_time": "2022-03-07T23:24:59.925Z"
   },
   {
    "duration": 49,
    "start_time": "2022-03-07T23:24:59.935Z"
   },
   {
    "duration": 27,
    "start_time": "2022-03-07T23:24:59.987Z"
   },
   {
    "duration": 576,
    "start_time": "2022-03-07T23:25:00.017Z"
   },
   {
    "duration": 14,
    "start_time": "2022-03-07T23:25:00.596Z"
   },
   {
    "duration": 24,
    "start_time": "2022-03-07T23:25:00.612Z"
   },
   {
    "duration": 21,
    "start_time": "2022-03-07T23:25:00.638Z"
   },
   {
    "duration": 23,
    "start_time": "2022-03-07T23:25:00.662Z"
   },
   {
    "duration": 43,
    "start_time": "2022-03-07T23:25:00.687Z"
   },
   {
    "duration": 43,
    "start_time": "2022-03-07T23:25:00.733Z"
   },
   {
    "duration": 50,
    "start_time": "2022-03-07T23:25:00.778Z"
   },
   {
    "duration": 1252,
    "start_time": "2022-03-07T23:25:00.830Z"
   },
   {
    "duration": 1951,
    "start_time": "2022-03-07T23:25:02.085Z"
   },
   {
    "duration": 8,
    "start_time": "2022-03-07T23:25:04.039Z"
   },
   {
    "duration": 35,
    "start_time": "2022-03-07T23:25:04.050Z"
   },
   {
    "duration": 17,
    "start_time": "2022-03-07T23:25:04.087Z"
   },
   {
    "duration": 31,
    "start_time": "2022-03-07T23:25:04.107Z"
   },
   {
    "duration": 21,
    "start_time": "2022-03-07T23:25:04.140Z"
   },
   {
    "duration": 37,
    "start_time": "2022-03-07T23:25:04.164Z"
   },
   {
    "duration": 25,
    "start_time": "2022-03-07T23:25:04.203Z"
   },
   {
    "duration": 42,
    "start_time": "2022-03-07T23:25:04.230Z"
   },
   {
    "duration": 26,
    "start_time": "2022-03-07T23:25:04.274Z"
   },
   {
    "duration": 40,
    "start_time": "2022-03-07T23:25:04.303Z"
   },
   {
    "duration": 22,
    "start_time": "2022-03-07T23:25:04.346Z"
   },
   {
    "duration": 32,
    "start_time": "2022-03-07T23:25:04.370Z"
   }
  ],
  "kernelspec": {
   "display_name": "Python 3",
   "language": "python",
   "name": "python3"
  },
  "language_info": {
   "codemirror_mode": {
    "name": "ipython",
    "version": 3
   },
   "file_extension": ".py",
   "mimetype": "text/x-python",
   "name": "python",
   "nbconvert_exporter": "python",
   "pygments_lexer": "ipython3",
   "version": "3.7.4"
  },
  "toc": {
   "base_numbering": 1,
   "nav_menu": {},
   "number_sections": true,
   "sideBar": true,
   "skip_h1_title": true,
   "title_cell": "Table of Contents",
   "title_sidebar": "Contents",
   "toc_cell": false,
   "toc_position": {},
   "toc_section_display": true,
   "toc_window_display": false
  }
 },
 "nbformat": 4,
 "nbformat_minor": 2
}
